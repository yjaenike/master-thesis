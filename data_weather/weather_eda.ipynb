{
 "cells": [
  {
   "cell_type": "code",
   "execution_count": 3,
   "id": "33b64ef4-ba07-483c-9435-9ae8be0689d2",
   "metadata": {},
   "outputs": [],
   "source": [
    "# Data\n",
    "import numpy as np\n",
    "import pandas as pd\n",
    "import glob\n",
    "import os\n",
    "\n",
    "# Plotting\n",
    "import matplotlib.pyplot as plt\n",
    "import seaborn as sns"
   ]
  },
  {
   "cell_type": "code",
   "execution_count": 51,
   "id": "a493681a-4f13-4ae0-b211-abe4ccfeeab7",
   "metadata": {},
   "outputs": [],
   "source": [
    "# combine all datsets into one big dataset and save to parquet\n",
    "\n",
    "path = r'' \n",
    "\n",
    "all_files = glob.glob(os.path.join(path, \"*.csv\"))\n",
    "\n",
    "df = pd.concat((pd.read_csv(f) for f in all_files), ignore_index=True)\n",
    "\n",
    "#--- data cleaning ---\n",
    "\n",
    "# drop row number column\n",
    "df = df.drop(\"No\", axis=1)\n",
    "\n",
    "# replace column names\n",
    "def change_column_name(name):\n",
    "    name = name.lower()\n",
    "    \n",
    "    if name == 'pm2.5':\n",
    "        name = \"pm25\"\n",
    "    if name == \"temp\":\n",
    "        name = \"temperatur\"\n",
    "    if name == \"pres\":\n",
    "        name = \"pressure\"\n",
    "    if name == \"dewp\":\n",
    "        name = \"dew_point\"\n",
    "    if name == \"wd\":\n",
    "        name = \"wind_direction\"\n",
    "    if name == \"wspm\":\n",
    "        name = \"wind_speed\"\n",
    "        \n",
    "    return name\n",
    "\n",
    "column_names = list(df.columns)\n",
    "column_names = [change_column_name(x) for x in column_names]\n",
    "df.columns = column_names\n",
    "\n",
    "df.to_parquet(\"prsa_data.parquet\")"
   ]
  },
  {
   "cell_type": "code",
   "execution_count": 52,
   "id": "5a703030-4aca-4165-a599-d0b929df67a4",
   "metadata": {},
   "outputs": [
    {
     "data": {
      "text/plain": [
       "Index(['year', 'month', 'day', 'hour', 'pm25', 'pm10', 'so2', 'no2', 'co',\n",
       "       'o3', 'temperatur', 'pressure', 'dew_point', 'rain', 'wind_direction',\n",
       "       'wind_speed', 'station'],\n",
       "      dtype='object')"
      ]
     },
     "execution_count": 52,
     "metadata": {},
     "output_type": "execute_result"
    }
   ],
   "source": [
    "df.columns"
   ]
  },
  {
   "cell_type": "markdown",
   "id": "f421bce7-10ca-47ae-b33e-6a746cae3939",
   "metadata": {},
   "source": [
    "# EDA - air quality dataset"
   ]
  },
  {
   "cell_type": "code",
   "execution_count": 5,
   "id": "bad51b54-fa90-4eab-8882-732eaa207e00",
   "metadata": {},
   "outputs": [],
   "source": [
    "weather = pd.read_csv(\"weather.csv\")"
   ]
  },
  {
   "cell_type": "code",
   "execution_count": 6,
   "id": "4a446e56-8b25-4cd1-9b8d-2f925ea1ce3e",
   "metadata": {},
   "outputs": [
    {
     "data": {
      "text/html": [
       "<div>\n",
       "<style scoped>\n",
       "    .dataframe tbody tr th:only-of-type {\n",
       "        vertical-align: middle;\n",
       "    }\n",
       "\n",
       "    .dataframe tbody tr th {\n",
       "        vertical-align: top;\n",
       "    }\n",
       "\n",
       "    .dataframe thead th {\n",
       "        text-align: right;\n",
       "    }\n",
       "</style>\n",
       "<table border=\"1\" class=\"dataframe\">\n",
       "  <thead>\n",
       "    <tr style=\"text-align: right;\">\n",
       "      <th></th>\n",
       "      <th>date</th>\n",
       "      <th>Visibility</th>\n",
       "      <th>DryBulbFarenheit</th>\n",
       "      <th>DryBulbCelsius</th>\n",
       "      <th>WetBulbFarenheit</th>\n",
       "      <th>DewPointFarenheit</th>\n",
       "      <th>DewPointCelsius</th>\n",
       "      <th>RelativeHumidity</th>\n",
       "      <th>WindSpeed</th>\n",
       "      <th>WindDirection</th>\n",
       "      <th>StationPressure</th>\n",
       "      <th>Altimeter</th>\n",
       "      <th>WetBulbCelsius</th>\n",
       "    </tr>\n",
       "  </thead>\n",
       "  <tbody>\n",
       "    <tr>\n",
       "      <th>0</th>\n",
       "      <td>1/1/2010 0:00</td>\n",
       "      <td>10.0</td>\n",
       "      <td>16</td>\n",
       "      <td>-9</td>\n",
       "      <td>13</td>\n",
       "      <td>7</td>\n",
       "      <td>-14</td>\n",
       "      <td>67</td>\n",
       "      <td>7</td>\n",
       "      <td>130</td>\n",
       "      <td>21.65</td>\n",
       "      <td>30.35</td>\n",
       "      <td>-10.3</td>\n",
       "    </tr>\n",
       "    <tr>\n",
       "      <th>1</th>\n",
       "      <td>1/1/2010 1:00</td>\n",
       "      <td>10.0</td>\n",
       "      <td>16</td>\n",
       "      <td>-9</td>\n",
       "      <td>13</td>\n",
       "      <td>7</td>\n",
       "      <td>-14</td>\n",
       "      <td>67</td>\n",
       "      <td>5</td>\n",
       "      <td>150</td>\n",
       "      <td>21.64</td>\n",
       "      <td>30.34</td>\n",
       "      <td>-10.3</td>\n",
       "    </tr>\n",
       "    <tr>\n",
       "      <th>2</th>\n",
       "      <td>1/1/2010 2:00</td>\n",
       "      <td>10.0</td>\n",
       "      <td>16</td>\n",
       "      <td>-9</td>\n",
       "      <td>13</td>\n",
       "      <td>7</td>\n",
       "      <td>-14</td>\n",
       "      <td>67</td>\n",
       "      <td>5</td>\n",
       "      <td>190</td>\n",
       "      <td>21.65</td>\n",
       "      <td>30.35</td>\n",
       "      <td>-10.3</td>\n",
       "    </tr>\n",
       "    <tr>\n",
       "      <th>3</th>\n",
       "      <td>1/1/2010 3:00</td>\n",
       "      <td>10.0</td>\n",
       "      <td>16</td>\n",
       "      <td>-9</td>\n",
       "      <td>13</td>\n",
       "      <td>7</td>\n",
       "      <td>-14</td>\n",
       "      <td>67</td>\n",
       "      <td>7</td>\n",
       "      <td>180</td>\n",
       "      <td>21.65</td>\n",
       "      <td>30.35</td>\n",
       "      <td>-10.3</td>\n",
       "    </tr>\n",
       "    <tr>\n",
       "      <th>4</th>\n",
       "      <td>1/1/2010 4:00</td>\n",
       "      <td>10.0</td>\n",
       "      <td>16</td>\n",
       "      <td>-9</td>\n",
       "      <td>14</td>\n",
       "      <td>9</td>\n",
       "      <td>-13</td>\n",
       "      <td>74</td>\n",
       "      <td>6</td>\n",
       "      <td>120</td>\n",
       "      <td>21.64</td>\n",
       "      <td>30.34</td>\n",
       "      <td>-10.0</td>\n",
       "    </tr>\n",
       "  </tbody>\n",
       "</table>\n",
       "</div>"
      ],
      "text/plain": [
       "            date  Visibility  DryBulbFarenheit  DryBulbCelsius  \\\n",
       "0  1/1/2010 0:00        10.0                16              -9   \n",
       "1  1/1/2010 1:00        10.0                16              -9   \n",
       "2  1/1/2010 2:00        10.0                16              -9   \n",
       "3  1/1/2010 3:00        10.0                16              -9   \n",
       "4  1/1/2010 4:00        10.0                16              -9   \n",
       "\n",
       "   WetBulbFarenheit  DewPointFarenheit  DewPointCelsius  RelativeHumidity  \\\n",
       "0                13                  7              -14                67   \n",
       "1                13                  7              -14                67   \n",
       "2                13                  7              -14                67   \n",
       "3                13                  7              -14                67   \n",
       "4                14                  9              -13                74   \n",
       "\n",
       "   WindSpeed  WindDirection  StationPressure  Altimeter  WetBulbCelsius  \n",
       "0          7            130            21.65      30.35           -10.3  \n",
       "1          5            150            21.64      30.34           -10.3  \n",
       "2          5            190            21.65      30.35           -10.3  \n",
       "3          7            180            21.65      30.35           -10.3  \n",
       "4          6            120            21.64      30.34           -10.0  "
      ]
     },
     "execution_count": 6,
     "metadata": {},
     "output_type": "execute_result"
    }
   ],
   "source": [
    "weather.head()"
   ]
  },
  {
   "cell_type": "code",
   "execution_count": 8,
   "id": "1beffdba-4df9-42bf-8753-e143e3927f39",
   "metadata": {},
   "outputs": [
    {
     "name": "stdout",
     "output_type": "stream",
     "text": [
      "Data: \u001b[1;31mWeather\u001b[0m, nrows: 35064, ncols: 13\n",
      "\u001b[1m\u001b[4m\u001b[95mcolumn                      :  type     samples                                            |       Mean    Median       Min        Max       Nans (Nans%)\u001b[0m\n",
      "date                        :  object   '2/10/2011 13:00'  '2/14/2010 19:00'  '1/2/2011 14 |          -         -         -          -          0 (0.0%)\n",
      "Visibility                  :  float64  10.0  10.0  10.0  10.0  10.0  10.0  10.0  10.0  10 |       9.39      10.0       0.0       10.0          0 (0.0%)\n",
      "DryBulbFarenheit            :  int64    45  21  45  54  32  79  32  50  50  27             |      42.98      43.0       -15         86          0 (0.0%)\n",
      "DryBulbCelsius              :  int64    5  -2  16  11  12  3  1  14  13  2                 |       6.12       6.0       -26         30          0 (0.0%)\n",
      "WetBulbFarenheit            :  int64    21  24  50  13  41  49  37  30  22  31             |      33.72      33.0       -16         61          0 (0.0%)\n",
      "DewPointFarenheit           :  int64    52  10  19  18  28  27  23  32  12  -8             |      21.71      19.0       -29         59          0 (0.0%)\n",
      "DewPointCelsius             :  int64    -12  7  -8  -2  10  6  -3  -13  -16  -3            |      -5.68      -7.0       -34         15          0 (0.0%)\n",
      "RelativeHumidity            :  int64    72  72  54  64  51  77  72  35  92  85             |      49.84      48.0         0        100          0 (0.0%)\n",
      "WindSpeed                   :  int64    3  0  8  8  3  17  5  8  5  0                      |       5.65       6.0         0         38          0 (0.0%)\n",
      "WindDirection               :  int64    0  0  0  130  0  170  130  120  230  60            |     132.62     130.0         0        360          0 (0.0%)\n",
      "StationPressure             :  float64  21.42  21.8  21.65  21.47  21.54  21.48  21.43  21 |      21.53     21.56     20.66      21.88          0 (0.0%)\n",
      "Altimeter                   :  float64  30.49  30.48  30.36  29.91  29.97  30.35  30.58  3 |       30.2     30.24     29.05      30.66          0 (0.0%)\n",
      "WetBulbCelsius              :  float64  11.4  -3.0  -4.3  2.1  -7.0  8.2  -6.0  -2.1  -11. |       1.03       0.6     -26.4       16.3          0 (0.0%)\n"
     ]
    }
   ],
   "source": [
    "# Description of the columns\n",
    "print('Data: '+'\\x1b[1;31m'+'Weather'+'\\x1b[0m'+ \", nrows: {}, ncols: {}\".format(aq.shape[0],aq.shape[1]))\n",
    "print(\"\\033[1m\\033[4m\\033[95m{:<27} :  {:<7}  {:<50} |  {:>9} {:>9} {:>9} {:>10} {:>10} ({:>4}%)\\033[0m\".format(\"column\", \"type\", \"samples\", \"Mean\", \"Median\", \"Min\", \"Max\", \"Nans\", \"Nans\"))\n",
    "for column in weather.columns:\n",
    "    \n",
    "    column_type = str(weather.dtypes[column])\n",
    "    \n",
    "    samples = weather[column].dropna().sample(10).tolist()\n",
    "    if column_type == \"object\":\n",
    "        samples = [\"'\"+value+\"'\" for value in samples]\n",
    "        samples = \"  \".join([str(value) for value in samples])[:50]\n",
    "    else:\n",
    "        samples = \"  \".join([str(round(value,2)) for value in samples])[:50]\n",
    "    \n",
    "    mean = \"-\"\n",
    "    median = \"-\"\n",
    "    mini = \"-\"\n",
    "    maxi = \"-\"\n",
    "    if column_type != \"object\":\n",
    "        mean = round(weather[column].mean(),2)\n",
    "        median = round(weather[column].median(),2)\n",
    "        mini = round(weather[column].min(),2)\n",
    "        maxi = round(weather[column].max(),2)\n",
    "    \n",
    "    nans_perc = round(weather[column].isnull().sum() * 100 / len(weather[column]),1)\n",
    "    nans = weather[column].isnull().sum()\n",
    "    \n",
    "    out = \"{:<27} :  {:<7}  {:<50} |  {:>9} {:>9} {:>9} {:>10} {:>10} ({}%)\".format(column, column_type, samples, str(mean), str(median), str(mini), str(maxi), nans, nans_perc)\n",
    "    print(out)"
   ]
  },
  {
   "cell_type": "code",
   "execution_count": null,
   "id": "69cb52aa-9036-4b13-be46-1c5da5c1b481",
   "metadata": {},
   "outputs": [
    {
     "name": "stdout",
     "output_type": "stream",
     "text": [
      "Creating column 12/13 - WetBulbCelsiuset\r"
     ]
    }
   ],
   "source": [
    "fig, axs = plt.subplots(4, 4)\n",
    "fig.set_figheight(20)\n",
    "fig.set_figwidth(20)\n",
    "\n",
    "colors = plt.rcParams[\"axes.prop_cycle\"]()\n",
    "\n",
    "for i, ax in enumerate(fig.axes):\n",
    "        \n",
    "        if i < len(weather.columns):\n",
    "            \n",
    "            # get column name\n",
    "            column_name = weather.columns[i]\n",
    "            print(\"Creating column {}/{} - {}\".format(i, len(weather.columns), column_name), end=\"\\r\")\n",
    "            \n",
    "            # Extract data\n",
    "            series = weather[column_name].dropna()\n",
    "            \n",
    "            # Create subplot\n",
    "            color = next(colors)[\"color\"]\n",
    "            \n",
    "            ax.hist(series, density=True, bins=100, color= color, range=(series.min(), series.max()))\n",
    "            ax.set_title(column_name+\" (min:{} max:{} n={})\".format(series.min(),series.max(), series.count()))\n",
    "\n",
    "            \n",
    "fig.tight_layout()        \n",
    "#fig.savefig(\"../master-thesis/figures/column_distribution.png\")"
   ]
  },
  {
   "cell_type": "code",
   "execution_count": 82,
   "id": "7982f3a2-d7b6-4779-8484-c3ac1a4e8249",
   "metadata": {},
   "outputs": [
    {
     "name": "stdout",
     "output_type": "stream",
     "text": [
      "                      year - 0.0%\n",
      "                     month - 0.0%\n",
      "                       day - 0.0%\n",
      "                      hour - 0.0%\n",
      "                   station - 0.0%\n",
      "                temperatur - 0.1%\n",
      "                  pressure - 0.1%\n",
      "                 dew_point - 0.1%\n",
      "                      rain - 0.1%\n",
      "                wind_speed - 0.1%\n",
      "            wind_direction - 0.4%\n",
      "                      pm10 - 1.5%\n",
      "                      pm25 - 2.1%\n",
      "                       so2 - 2.1%\n",
      "                       no2 - 2.9%\n",
      "                        o3 - 3.2%\n",
      "                        co - 4.9%\n"
     ]
    }
   ],
   "source": [
    "# Columns with highest missing values\n",
    "nans_in_column = {}\n",
    "for column in aq.columns:\n",
    "    \n",
    "    nans_perc = round(aq[column].isnull().sum() * 100 / len(aq[column]),1)\n",
    "    nans = aq[column].isnull().sum()\n",
    "    \n",
    "    nans_in_column[column] = nans_perc\n",
    "\n",
    "nans_in_column = {k: v for k, v in sorted(nans_in_column.items(), key=lambda item: item[1])}\n",
    "\n",
    "for key, value in nans_in_column.items():\n",
    "    print(\"{:>26} - {}%\".format(key,value))"
   ]
  },
  {
   "cell_type": "code",
   "execution_count": 93,
   "id": "935d5bc1-10fd-4240-8fe1-8ff5597d471b",
   "metadata": {},
   "outputs": [
    {
     "data": {
      "image/png": "[encoded data removed]",
      "text/plain": [
       "<Figure size 720x720 with 2 Axes>"
      ]
     },
     "metadata": {
      "needs_background": "light"
     },
     "output_type": "display_data"
    }
   ],
   "source": [
    "# correlation between variables\n",
    "corr = aq.iloc[:,4:].corr()\n",
    "\n",
    "# Generate a mask for the upper triangle\n",
    "mask = np.triu(np.ones_like(corr, dtype=bool))\n",
    "\n",
    "# Set up the matplotlib figure\n",
    "f, ax = plt.subplots(figsize=(10, 10))\n",
    "\n",
    "# Generate a custom diverging colormap\n",
    "cmap = sns.diverging_palette(230, 20, as_cmap=True)\n",
    "\n",
    "# Draw the heatmap with the mask and correct aspect ratio\n",
    "sns.heatmap(corr, mask=mask, cmap=cmap, vmax=.3, center=0,\n",
    "            square=True, linewidths=.5, cbar_kws={\"shrink\": .5})\n",
    "\n",
    "plt.show()"
   ]
  },
  {
   "cell_type": "markdown",
   "id": "b2f05133-3761-46e3-afca-ff53f4b16208",
   "metadata": {},
   "source": [
    "- **temperature** and **pressure** have a high negative correlation\n",
    "- **dewpoint** and **pressure** have a high negative correlation\n",
    "- **chemical measurements** have a slight positive correlation with each other "
   ]
  },
  {
   "cell_type": "code",
   "execution_count": null,
   "id": "babe0924-17e6-4364-9068-7b46cd635be4",
   "metadata": {},
   "outputs": [],
   "source": []
  }
 ],
 "metadata": {
  "kernelspec": {
   "display_name": "jupyter-lab",
   "language": "python",
   "name": "jupyter-lab"
  },
  "language_info": {
   "codemirror_mode": {
    "name": "ipython",
    "version": 3
   },
   "file_extension": ".py",
   "mimetype": "text/x-python",
   "name": "python",
   "nbconvert_exporter": "python",
   "pygments_lexer": "ipython3",
   "version": "3.10.4"
  }
 },
 "nbformat": 4,
 "nbformat_minor": 5
}
