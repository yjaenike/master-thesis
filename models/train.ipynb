{
 "cells": [
  {
   "cell_type": "code",
   "execution_count": 1,
   "id": "0df38f92-be7a-433e-93bd-a8c51e06e572",
   "metadata": {},
   "outputs": [],
   "source": [
    "%load_ext autoreload"
   ]
  },
  {
   "cell_type": "code",
   "execution_count": 2,
   "id": "d62974dd-a418-4011-8ff0-574caa095a52",
   "metadata": {},
   "outputs": [],
   "source": [
    "# Utilities \n",
    "from options.options import is_notebook, get_options, update_options, print_options\n",
    "import argparse\n",
    "import math\n",
    "import time\n",
    "import random\n",
    "import os\n",
    "from tqdm import tqdm\n",
    "\n",
    "# Data\n",
    "import numpy as np\n",
    "from sklearn.model_selection import train_test_split\n",
    "from datautils.ts_dataset import TSDataset\n",
    "from datautils.data import prepare_dataloaders\n",
    "import pandas as pd\n",
    "\n",
    "# Torch\n",
    "import torch\n",
    "import torch.nn as nn\n",
    "import torch.nn.functional as F\n",
    "import torch.optim as optim\n",
    "from torch.utils.data import DataLoader\n",
    "\n",
    "# Transformer\n",
    "#import tstransformer.Constants as Constants\n",
    "from tstransformer.Models import Transformer\n",
    "from tstransformer.Optim import ScheduledOptim\n",
    "\n",
    "%autoreload 2"
   ]
  },
  {
   "cell_type": "code",
   "execution_count": 3,
   "id": "8fa37698-c874-4c10-993c-f9c657d48bf3",
   "metadata": {},
   "outputs": [
    {
     "name": "stdout",
     "output_type": "stream",
     "text": [
      "####  Before Empty Cache ####\n",
      "Total memory: 12288.0 MB\n",
      "Free memory:  12057.1875 MB\n",
      "Used memory:  230.8125 MB\n",
      "\n",
      "####  After Empty Cache ####\n",
      "Total memory: 12288.0 MB\n",
      "Free memory:  12057.1875 MB\n",
      "Used memory:  230.8125 MB\n",
      "\n"
     ]
    }
   ],
   "source": [
    "# Helper function to determin GPU usage\n",
    "def get_gpu_memory(name = \"GPU Memory\", verbose = True):\n",
    "    import nvidia_smi\n",
    "    nvidia_smi.nvmlInit()\n",
    "\n",
    "    handle = nvidia_smi.nvmlDeviceGetHandleByIndex(0)\n",
    "    # card id 0 hardcoded here, there is also a call to get all available card ids, so we could iterate\n",
    "\n",
    "    info = nvidia_smi.nvmlDeviceGetMemoryInfo(handle)\n",
    "    \n",
    "    memory = {\"total\":  info.total / (1024 * 1024), \"free\": info.free / (1024 * 1024), \"used\": info.used / (1024 * 1024)}\n",
    "    \n",
    "    if verbose:\n",
    "        print(\"#### \", name , \"####\")\n",
    "        print(\"Total memory:\", memory[\"total\"], \"MB\")\n",
    "        print(\"Free memory: \", memory[\"free\"], \"MB\")\n",
    "        print(\"Used memory: \", memory[\"used\"], \"MB\")\n",
    "        print(\"\")\n",
    "    \n",
    "    nvidia_smi.nvmlShutdown()\n",
    "    \n",
    "    return memory\n",
    "\n",
    "_=get_gpu_memory(\"Before Empty Cache\")\n",
    "torch.cuda.empty_cache()\n",
    "_=get_gpu_memory(\"After Empty Cache\")"
   ]
  },
  {
   "cell_type": "code",
   "execution_count": 4,
   "id": "5e4e8a0b-3b3d-4156-a492-9ee151888fa5",
   "metadata": {},
   "outputs": [
    {
     "name": "stdout",
     "output_type": "stream",
     "text": [
      "\u001b[93m\u001b[1m           train_path \u001b[0m:  /home/yannic/master-thesis/data_air/prsa_data.parquet\n",
      "\u001b[93m\u001b[1m             val_path \u001b[0m:  /home/yannic/master-thesis/data_air/prsa_data.parquet\n",
      "\u001b[93m\u001b[1m                epoch \u001b[0m:  10\n",
      "\u001b[93m\u001b[1m           batch_size \u001b[0m:  64\n",
      "\u001b[93m\u001b[1m              d_model \u001b[0m:  512\n",
      "\u001b[93m\u001b[1m       d_inner_hidden \u001b[0m:  2048\n",
      "\u001b[93m\u001b[1m                d_key \u001b[0m:  32\n",
      "\u001b[93m\u001b[1m              d_value \u001b[0m:  64\n",
      "\u001b[93m\u001b[1m           d_sequence \u001b[0m:  512\n",
      "\u001b[93m\u001b[1m               n_head \u001b[0m:  8\n",
      "\u001b[93m\u001b[1m             n_layers \u001b[0m:  1\n",
      "\u001b[93m\u001b[1m       n_warmup_steps \u001b[0m:  4000\n",
      "\u001b[93m\u001b[1m               lr_mul \u001b[0m:  2.0\n",
      "\u001b[93m\u001b[1m                 seed \u001b[0m:  False\n",
      "\u001b[93m\u001b[1m              dropout \u001b[0m:  0.1\n",
      "\u001b[93m\u001b[1m    embs_share_weight \u001b[0m:  False\n",
      "\u001b[93m\u001b[1m    proj_share_weight \u001b[0m:  False\n",
      "\u001b[93m\u001b[1m     scale_emb_or_prj \u001b[0m:  prj\n",
      "\u001b[93m\u001b[1m           output_dir \u001b[0m:  ./output\n",
      "\u001b[93m\u001b[1m               use_tb \u001b[0m:  False\n",
      "\u001b[93m\u001b[1m            use_wandb \u001b[0m:  False\n",
      "\u001b[93m\u001b[1m            save_mode \u001b[0m:  best\n",
      "\u001b[93m\u001b[1m                 cuda \u001b[0m:  True\n",
      "\u001b[93m\u001b[1m      label_smoothing \u001b[0m:  True\n"
     ]
    }
   ],
   "source": [
    "opt = get_options()\n",
    "print_options(opt)"
   ]
  },
  {
   "cell_type": "code",
   "execution_count": 5,
   "id": "f5480c8c-4598-4786-ab3e-34dea99cd21d",
   "metadata": {
    "tags": []
   },
   "outputs": [],
   "source": [
    "# https://pytorch.org/docs/stable/notes/randomness.html\n",
    "# For reproducibility\n",
    "if opt[\"seed\"] is not None:\n",
    "    torch.manual_seed(opt[\"seed\"])\n",
    "    torch.backends.cudnn.benchmark = False\n",
    "    # torch.set_deterministic(True)\n",
    "    np.random.seed(opt[\"seed\"])\n",
    "    random.seed(opt[\"seed\"])"
   ]
  },
  {
   "cell_type": "code",
   "execution_count": 6,
   "id": "26c031fb-080e-40f1-b4b4-06f7358acd1d",
   "metadata": {},
   "outputs": [],
   "source": [
    "if not opt[\"output_dir\"]:\n",
    "    print('No experiment result will be saved.')\n",
    "    raise"
   ]
  },
  {
   "cell_type": "code",
   "execution_count": 7,
   "id": "d972728e-4997-46e7-a939-3e43cb44a792",
   "metadata": {},
   "outputs": [],
   "source": [
    "if not os.path.exists(opt[\"output_dir\"]):\n",
    "    os.makedirs(opt[\"output_dir\"])"
   ]
  },
  {
   "cell_type": "code",
   "execution_count": 8,
   "id": "42c0a9f6-e82a-4d3d-8933-6a0734aec5bc",
   "metadata": {},
   "outputs": [
    {
     "name": "stdout",
     "output_type": "stream",
     "text": [
      "cuda\n"
     ]
    }
   ],
   "source": [
    "# define the cuda devide\n",
    "device = torch.device('cuda' if opt[\"cuda\"] else 'cpu')\n",
    "print(device)"
   ]
  },
  {
   "cell_type": "code",
   "execution_count": 9,
   "id": "97591670-2d35-476c-923e-5618d1eb89d1",
   "metadata": {},
   "outputs": [
    {
     "data": {
      "text/html": [
       "<div>\n",
       "<style scoped>\n",
       "    .dataframe tbody tr th:only-of-type {\n",
       "        vertical-align: middle;\n",
       "    }\n",
       "\n",
       "    .dataframe tbody tr th {\n",
       "        vertical-align: top;\n",
       "    }\n",
       "\n",
       "    .dataframe thead th {\n",
       "        text-align: right;\n",
       "    }\n",
       "</style>\n",
       "<table border=\"1\" class=\"dataframe\">\n",
       "  <thead>\n",
       "    <tr style=\"text-align: right;\">\n",
       "      <th></th>\n",
       "      <th>pm25</th>\n",
       "      <th>pm10</th>\n",
       "      <th>so2</th>\n",
       "      <th>no2</th>\n",
       "      <th>co</th>\n",
       "      <th>o3</th>\n",
       "      <th>temperatur</th>\n",
       "      <th>pressure</th>\n",
       "      <th>dew_point</th>\n",
       "      <th>rain</th>\n",
       "      <th>wind_speed</th>\n",
       "    </tr>\n",
       "  </thead>\n",
       "  <tbody>\n",
       "    <tr>\n",
       "      <th>0</th>\n",
       "      <td>6.0</td>\n",
       "      <td>18.0</td>\n",
       "      <td>5.0</td>\n",
       "      <td>0.0</td>\n",
       "      <td>800.0</td>\n",
       "      <td>88.0</td>\n",
       "      <td>0.1</td>\n",
       "      <td>1021.1</td>\n",
       "      <td>-18.6</td>\n",
       "      <td>0.0</td>\n",
       "      <td>4.4</td>\n",
       "    </tr>\n",
       "    <tr>\n",
       "      <th>1</th>\n",
       "      <td>6.0</td>\n",
       "      <td>15.0</td>\n",
       "      <td>5.0</td>\n",
       "      <td>0.0</td>\n",
       "      <td>800.0</td>\n",
       "      <td>88.0</td>\n",
       "      <td>-0.3</td>\n",
       "      <td>1021.5</td>\n",
       "      <td>-19.0</td>\n",
       "      <td>0.0</td>\n",
       "      <td>4.0</td>\n",
       "    </tr>\n",
       "    <tr>\n",
       "      <th>2</th>\n",
       "      <td>5.0</td>\n",
       "      <td>18.0</td>\n",
       "      <td>0.0</td>\n",
       "      <td>0.0</td>\n",
       "      <td>700.0</td>\n",
       "      <td>52.0</td>\n",
       "      <td>-0.7</td>\n",
       "      <td>1021.5</td>\n",
       "      <td>-19.8</td>\n",
       "      <td>0.0</td>\n",
       "      <td>4.6</td>\n",
       "    </tr>\n",
       "    <tr>\n",
       "      <th>3</th>\n",
       "      <td>6.0</td>\n",
       "      <td>20.0</td>\n",
       "      <td>6.0</td>\n",
       "      <td>0.0</td>\n",
       "      <td>0.0</td>\n",
       "      <td>0.0</td>\n",
       "      <td>-1.0</td>\n",
       "      <td>1022.7</td>\n",
       "      <td>-21.2</td>\n",
       "      <td>0.0</td>\n",
       "      <td>2.8</td>\n",
       "    </tr>\n",
       "    <tr>\n",
       "      <th>4</th>\n",
       "      <td>5.0</td>\n",
       "      <td>17.0</td>\n",
       "      <td>5.0</td>\n",
       "      <td>0.0</td>\n",
       "      <td>600.0</td>\n",
       "      <td>73.0</td>\n",
       "      <td>-1.3</td>\n",
       "      <td>1023.0</td>\n",
       "      <td>-21.4</td>\n",
       "      <td>0.0</td>\n",
       "      <td>3.6</td>\n",
       "    </tr>\n",
       "  </tbody>\n",
       "</table>\n",
       "</div>"
      ],
      "text/plain": [
       "   pm25  pm10  so2  no2     co    o3  temperatur  pressure  dew_point  rain  \\\n",
       "0   6.0  18.0  5.0  0.0  800.0  88.0         0.1    1021.1      -18.6   0.0   \n",
       "1   6.0  15.0  5.0  0.0  800.0  88.0        -0.3    1021.5      -19.0   0.0   \n",
       "2   5.0  18.0  0.0  0.0  700.0  52.0        -0.7    1021.5      -19.8   0.0   \n",
       "3   6.0  20.0  6.0  0.0    0.0   0.0        -1.0    1022.7      -21.2   0.0   \n",
       "4   5.0  17.0  5.0  0.0  600.0  73.0        -1.3    1023.0      -21.4   0.0   \n",
       "\n",
       "   wind_speed  \n",
       "0         4.4  \n",
       "1         4.0  \n",
       "2         4.6  \n",
       "3         2.8  \n",
       "4         3.6  "
      ]
     },
     "execution_count": 9,
     "metadata": {},
     "output_type": "execute_result"
    }
   ],
   "source": [
    "# Load the dataset and preprocess it \n",
    "aq = pd.read_parquet(\"/home/yannic/master-thesis/data_air/prsa_data.parquet\")\n",
    "\n",
    "# With Stations\n",
    "#aq_prep = pd.concat([aq,pd.get_dummies(aq['station'], prefix='station',dummy_na=False)],axis=1).drop(['station'],axis=1).drop(columns=[\"wind_direction\"])\n",
    "\n",
    "# Without Stations\n",
    "aq_prep = aq.drop(['station'],axis=1).drop(columns=[\"wind_direction\"]).iloc[:,4:]\n",
    "\n",
    "aq_prep = aq_prep.fillna(0)\n",
    "aq_prep.head()"
   ]
  },
  {
   "cell_type": "markdown",
   "id": "b8ebdf1e-391d-4618-af0d-ee5223de8fdf",
   "metadata": {},
   "source": [
    "# DataLoader and Transformer"
   ]
  },
  {
   "cell_type": "markdown",
   "id": "460bc488-504a-4ef3-8dc7-3d0c8e44a863",
   "metadata": {
    "jp-MarkdownHeadingCollapsed": true,
    "tags": []
   },
   "source": [
    "# Functions"
   ]
  },
  {
   "cell_type": "code",
   "execution_count": null,
   "id": "2e76ed9d-d382-4dd2-8f5d-36c3ad1928ec",
   "metadata": {},
   "outputs": [],
   "source": [
    "def cal_performance(pred, gold, trg_pad_idx, smoothing=False):\n",
    "    ''' Apply label smoothing if needed '''\n",
    "\n",
    "    loss = cal_loss(pred, gold, trg_pad_idx, smoothing=smoothing)\n",
    "\n",
    "    pred = pred.max(1)[1]\n",
    "    gold = gold.contiguous().view(-1)\n",
    "    non_pad_mask = gold.ne(trg_pad_idx)\n",
    "    n_correct = pred.eq(gold).masked_select(non_pad_mask).sum().item()\n",
    "    n_word = non_pad_mask.sum().item()\n",
    "\n",
    "    return loss, n_correct, n_word"
   ]
  },
  {
   "cell_type": "code",
   "execution_count": null,
   "id": "c1421521-3849-46d3-ba18-3a98b5205b8d",
   "metadata": {},
   "outputs": [],
   "source": [
    "def cal_loss(pred, gold, trg_pad_idx, smoothing=False):\n",
    "    ''' Calculate cross entropy loss, apply label smoothing if needed. '''\n",
    "\n",
    "    gold = gold.contiguous().view(-1)\n",
    "\n",
    "    if smoothing:\n",
    "        eps = 0.1\n",
    "        n_class = pred.size(1)\n",
    "\n",
    "        one_hot = torch.zeros_like(pred).scatter(1, gold.view(-1, 1), 1)\n",
    "        one_hot = one_hot * (1 - eps) + (1 - one_hot) * eps / (n_class - 1)\n",
    "        log_prb = F.log_softmax(pred, dim=1)\n",
    "\n",
    "        non_pad_mask = gold.ne(trg_pad_idx)\n",
    "        loss = -(one_hot * log_prb).sum(dim=1)\n",
    "        loss = loss.masked_select(non_pad_mask).sum()  # average later\n",
    "    else:\n",
    "        loss = F.cross_entropy(pred, gold, ignore_index=trg_pad_idx, reduction='sum')\n",
    "    return loss"
   ]
  },
  {
   "cell_type": "code",
   "execution_count": null,
   "id": "6ff66755-edab-425d-980d-2a42faee9d51",
   "metadata": {},
   "outputs": [],
   "source": [
    "def patch_src(src, pad_idx):\n",
    "    src = src.transpose(0, 1)\n",
    "    return src"
   ]
  },
  {
   "cell_type": "code",
   "execution_count": null,
   "id": "e648e39d-e536-44dd-972b-d8a533ae7c2a",
   "metadata": {},
   "outputs": [],
   "source": [
    "def patch_trg(trg, pad_idx):\n",
    "    trg = trg.transpose(0, 1)\n",
    "    trg, gold = trg[:, :-1], trg[:, 1:].contiguous().view(-1)\n",
    "    return trg, gold"
   ]
  },
  {
   "cell_type": "code",
   "execution_count": null,
   "id": "e5eedd28-4abb-4486-aad5-83478599a90a",
   "metadata": {},
   "outputs": [],
   "source": [
    "def train_epoch(model, training_data, optimizer, opt, device, smoothing):\n",
    "    ''' Epoch operation in training phase'''\n",
    "\n",
    "    model.train()\n",
    "    total_loss, n_word_total, n_word_correct = 0, 0, 0 \n",
    "\n",
    "    desc = '  - (Training)   '\n",
    "    for batch in tqdm(training_data, mininterval=2, desc=desc, leave=False):\n",
    "        \n",
    "        \n",
    "        # prepare data\n",
    "        src_seq = patch_src(batch.src, opt.src_pad_idx).to(device)\n",
    "        trg_seq, gold = map(lambda x: x.to(device), patch_trg(batch.trg, opt.trg_pad_idx))\n",
    "\n",
    "        # forward\n",
    "        optimizer.zero_grad()\n",
    "        pred = model(src_seq, trg_seq)\n",
    "\n",
    "        # backward and update parameters\n",
    "        loss, n_correct, n_word = cal_performance(\n",
    "            pred, gold, opt.trg_pad_idx, smoothing=smoothing) \n",
    "        loss.backward()\n",
    "        optimizer.step_and_update_lr()\n",
    "\n",
    "        # note keeping\n",
    "        n_word_total += n_word\n",
    "        n_word_correct += n_correct\n",
    "        total_loss += loss.item()\n",
    "\n",
    "    loss_per_word = total_loss/n_word_total\n",
    "    accuracy = n_word_correct/n_word_total\n",
    "    return loss_per_word, accuracy"
   ]
  },
  {
   "cell_type": "code",
   "execution_count": null,
   "id": "b794e8ab-576e-44d6-b3db-1140dc1d19da",
   "metadata": {
    "tags": []
   },
   "outputs": [],
   "source": [
    "def eval_epoch(model, validation_data, device, opt):\n",
    "    ''' Epoch operation in evaluation phase '''\n",
    "\n",
    "    model.eval()\n",
    "    total_loss, n_word_total, n_word_correct = 0, 0, 0\n",
    "\n",
    "    desc = '  - (Validation) '\n",
    "    with torch.no_grad():\n",
    "        for batch in tqdm(validation_data, mininterval=2, desc=desc, leave=False):\n",
    "\n",
    "            # prepare data\n",
    "            src_seq = patch_src(batch.src, opt.src_pad_idx).to(device)\n",
    "            trg_seq, gold = map(lambda x: x.to(device), patch_trg(batch.trg, opt.trg_pad_idx))\n",
    "\n",
    "            # forward\n",
    "            pred = model(src_seq, trg_seq)\n",
    "            loss, n_correct, n_word = cal_performance(\n",
    "                pred, gold, opt.trg_pad_idx, smoothing=False)\n",
    "\n",
    "            # note keeping\n",
    "            n_word_total += n_word\n",
    "            n_word_correct += n_correct\n",
    "            total_loss += loss.item()\n",
    "\n",
    "    loss_per_word = total_loss/n_word_total\n",
    "    accuracy = n_word_correct/n_word_total\n",
    "    return loss_per_word, accuracy"
   ]
  },
  {
   "cell_type": "code",
   "execution_count": null,
   "id": "35c03029-11e2-41e0-bcb0-58073615138c",
   "metadata": {},
   "outputs": [],
   "source": [
    "def train(model, training_data, validation_data, optimizer, device, opt):\n",
    "    ''' Start training '''\n",
    "    \n",
    "    # Use wandb to plot curves, e.g. perplexity, accuracy, learning rate\n",
    "    # TODO: Implement this\n",
    "\n",
    "    log_train_file = os.path.join(opt[\"output_dir\"], 'train.log')\n",
    "    log_valid_file = os.path.join(opt[\"output_dir\"], 'valid.log')\n",
    "\n",
    "    print('[Info] Training performance will be written to file: {} and {}'.format(log_train_file, log_valid_file))\n",
    "\n",
    "    with open(log_train_file, 'w') as log_tf, open(log_valid_file, 'w') as log_vf:\n",
    "        log_tf.write('epoch,loss,ppl,accuracy\\n')\n",
    "        log_vf.write('epoch,loss,ppl,accuracy\\n')\n",
    "\n",
    "    def print_performances(header, accu, start_time, lr):\n",
    "        print('  - {header:12} , accuracy: {accu:3.3f} %, lr: {lr:8.5f}, ''elapse: {elapse:3.3f} min'.format(\n",
    "                  header=f\"({header})\",accu=100*accu, elapse=(time.time()-start_time)/60, lr=lr))\n",
    "\n",
    "    #valid_accus = []\n",
    "    valid_losses = []\n",
    "    for epoch_i in range(opt[\"epoch\"]):\n",
    "        print('[ Epoch', epoch_i, ']')\n",
    "\n",
    "        start = time.time()\n",
    "        train_loss, train_accu = train_epoch(\n",
    "            model, training_data, optimizer, opt, device, smoothing=opt[\"label_smoothing\"])\n",
    "        \n",
    "        \n",
    "        # Current learning rate\n",
    "        lr = optimizer._optimizer.param_groups[0]['lr']\n",
    "        print_performances('Training', train_accu, start, lr)\n",
    "\n",
    "        start = time.time()\n",
    "        valid_loss, valid_accu = eval_epoch(model, validation_data, device, opt)\n",
    "        valid_ppl = math.exp(min(valid_loss, 100))\n",
    "        print_performances('Validation', valid_ppl, valid_accu, start, lr)\n",
    "\n",
    "        valid_losses += [valid_loss]\n",
    "\n",
    "        checkpoint = {'epoch': epoch_i, 'settings': opt, 'model': model.state_dict()}\n",
    "        \n",
    "        if opt[\"save_mode\"] == 'all':\n",
    "            model_name = 'model_accu_{accu:3.3f}.chkpt'.format(accu=100*valid_accu)\n",
    "            torch.save(checkpoint, model_name)\n",
    "        elif opt[\"save_mode\"] == 'best':\n",
    "            model_name = 'model.chkpt'\n",
    "            if valid_loss <= min(valid_losses):\n",
    "                torch.save(checkpoint, os.path.join(opt[\"output_dir\"], model_name))\n",
    "                print('    - [Info] The checkpoint file has been updated.')\n",
    "\n",
    "        with open(log_train_file, 'a') as log_tf, open(log_valid_file, 'a') as log_vf:\n",
    "            log_tf.write('{epoch},{loss: 8.5f},{ppl: 8.5f},{accu:3.3f}\\n'.format(\n",
    "                epoch=epoch_i, loss=train_loss,\n",
    "                ppl=train_ppl, accu=100*train_accu))\n",
    "            log_vf.write('{epoch},{loss: 8.5f},{ppl: 8.5f},{accu:3.3f}\\n'.format(\n",
    "                epoch=epoch_i, loss=valid_loss,\n",
    "                ppl=valid_ppl, accu=100*valid_accu))\n",
    "\n",
    "        if opt[\"use_tb\"]:\n",
    "            tb_writer.add_scalars('ppl', {'train': train_ppl, 'val': valid_ppl}, epoch_i)\n",
    "            tb_writer.add_scalars('accuracy', {'train': train_accu*100, 'val': valid_accu*100}, epoch_i)\n",
    "            tb_writer.add_scalar('learning_rate', lr, epoch_i)\n"
   ]
  },
  {
   "cell_type": "markdown",
   "id": "b5bbfdf5-aa5b-4c8d-b559-c8453355662a",
   "metadata": {},
   "source": [
    "--------------------------------------------------------------------------------------------------------------------------------------------------------------------"
   ]
  },
  {
   "cell_type": "markdown",
   "id": "b6f28272-6f76-4a55-872a-502a30937d06",
   "metadata": {
    "tags": []
   },
   "source": [
    "# New Code "
   ]
  },
  {
   "cell_type": "code",
   "execution_count": 12,
   "id": "267aa059-5c23-4a15-9f64-df2988385e6e",
   "metadata": {},
   "outputs": [],
   "source": [
    "def calc_loss():\n",
    "    pass"
   ]
  },
  {
   "cell_type": "code",
   "execution_count": 13,
   "id": "f9dd590c-78b5-420b-a2c2-98c64117ca42",
   "metadata": {
    "tags": []
   },
   "outputs": [],
   "source": [
    "def train_epoch(model, train_dataloader, optimizer, opt, device):\n",
    "    \n",
    "    # Set the model into training mode\n",
    "    model.train()\n",
    "    \n",
    "    desc = '  - (Training)   '\n",
    "    for data, labels in tqdm(train_dataloader, mininterval=2, desc=desc, leave=False, ascii=\" ▖▘▝▗▚▞█\"): #ascii=\"░▒█\"):\n",
    "        \n",
    "        #TODO: prepare data\n",
    "        data = data.to(device)\n",
    "        labels = labels.to(device)\n",
    "        \n",
    "        #TODO: forward pass\n",
    "        optimizer.zero_grad()\n",
    "        pred = model(data, labels)\n",
    "        \n",
    "        #TODO: backward pass\n",
    "        print(\"Pred: \",pred.shape)\n",
    "        #print(pred[0])\n",
    "        #print(labels[0])\n",
    "        #loss = calc_loss(pred, labels)\n",
    "        break\n",
    "        \n",
    "    #data = data.to(\"cpu\")\n",
    "    #labels = labels.to(\"cpu\")\n",
    "    "
   ]
  },
  {
   "cell_type": "code",
   "execution_count": 14,
   "id": "59fd4c20-8672-4ee9-bcb7-cd09474fc526",
   "metadata": {},
   "outputs": [],
   "source": [
    "def train(model, train_dataloader, validation_data, optimizer, device, opt):\n",
    "    \n",
    "    # TODO: Implement wandb connection\n",
    "    \n",
    "    # TODO: Implement logging\n",
    "    \n",
    "    def print_performance(header, accu, start_time, lr):\n",
    "        print('  - {header:12} , accuracy: {accu:3.3f} %, lr: {lr:8.5f}, elapse: {elapse:3.3f} min'.format(\n",
    "                  header=f\"({header})\",accu=100*accu, elapse=(time.time()-start_time)/60, lr=lr))\n",
    "    \n",
    "    # TODO: Training Epoch Loop\n",
    "    for epoch_i in range(opt[\"epoch\"]):\n",
    "        print(\"[Epoch: {:>3}]\".format(epoch_i))\n",
    "        \n",
    "        #TODO: write function: train_epoch() \n",
    "        train_epoch(model,train_dataloader,optimizer,opt,device)\n",
    "        \n",
    "        \n",
    "        #TODO: write function: eval_epoch() \n",
    "        #eval_epoch()\n",
    "        break\n",
    "    #model.to(\"cpu\")\n",
    "    \n",
    "    "
   ]
  },
  {
   "cell_type": "code",
   "execution_count": 21,
   "id": "5f51464e-7320-4e4b-855e-81f98c06bde3",
   "metadata": {
    "tags": []
   },
   "outputs": [
    {
     "name": "stdout",
     "output_type": "stream",
     "text": [
      "[Epoch:   0]\n"
     ]
    },
    {
     "name": "stderr",
     "output_type": "stream",
     "text": [
      "                                                                                                                                                                                   \r"
     ]
    },
    {
     "ename": "AssertionError",
     "evalue": "For batched (3-D) `query`, expected `attn_mask` to be `None`, 2-D or 3-D but found 4-D tensor instead",
     "output_type": "error",
     "traceback": [
      "\u001b[0;31m---------------------------------------------------------------------------\u001b[0m",
      "\u001b[0;31mAssertionError\u001b[0m                            Traceback (most recent call last)",
      "Input \u001b[0;32mIn [21]\u001b[0m, in \u001b[0;36m<cell line: 1>\u001b[0;34m()\u001b[0m\n\u001b[0;32m----> 1\u001b[0m \u001b[43mtrain\u001b[49m\u001b[43m(\u001b[49m\u001b[43mtransformer\u001b[49m\u001b[43m,\u001b[49m\u001b[43mtrain_dataloader\u001b[49m\u001b[43m,\u001b[49m\u001b[43mtrain_dataloader\u001b[49m\u001b[43m,\u001b[49m\u001b[43moptimizer\u001b[49m\u001b[43m,\u001b[49m\u001b[43mdevice\u001b[49m\u001b[43m,\u001b[49m\u001b[43mopt\u001b[49m\u001b[43m)\u001b[49m\n",
      "Input \u001b[0;32mIn [14]\u001b[0m, in \u001b[0;36mtrain\u001b[0;34m(model, train_dataloader, validation_data, optimizer, device, opt)\u001b[0m\n\u001b[1;32m     13\u001b[0m \u001b[38;5;28mprint\u001b[39m(\u001b[38;5;124m\"\u001b[39m\u001b[38;5;124m[Epoch: \u001b[39m\u001b[38;5;132;01m{:>3}\u001b[39;00m\u001b[38;5;124m]\u001b[39m\u001b[38;5;124m\"\u001b[39m\u001b[38;5;241m.\u001b[39mformat(epoch_i))\n\u001b[1;32m     15\u001b[0m \u001b[38;5;66;03m#TODO: write function: train_epoch() \u001b[39;00m\n\u001b[0;32m---> 16\u001b[0m \u001b[43mtrain_epoch\u001b[49m\u001b[43m(\u001b[49m\u001b[43mmodel\u001b[49m\u001b[43m,\u001b[49m\u001b[43mtrain_dataloader\u001b[49m\u001b[43m,\u001b[49m\u001b[43moptimizer\u001b[49m\u001b[43m,\u001b[49m\u001b[43mopt\u001b[49m\u001b[43m,\u001b[49m\u001b[43mdevice\u001b[49m\u001b[43m)\u001b[49m\n\u001b[1;32m     19\u001b[0m \u001b[38;5;66;03m#TODO: write function: eval_epoch() \u001b[39;00m\n\u001b[1;32m     20\u001b[0m \u001b[38;5;66;03m#eval_epoch()\u001b[39;00m\n\u001b[1;32m     21\u001b[0m \u001b[38;5;28;01mbreak\u001b[39;00m\n",
      "Input \u001b[0;32mIn [13]\u001b[0m, in \u001b[0;36mtrain_epoch\u001b[0;34m(model, train_dataloader, optimizer, opt, device)\u001b[0m\n\u001b[1;32m     13\u001b[0m \u001b[38;5;66;03m#TODO: forward pass\u001b[39;00m\n\u001b[1;32m     14\u001b[0m optimizer\u001b[38;5;241m.\u001b[39mzero_grad()\n\u001b[0;32m---> 15\u001b[0m pred \u001b[38;5;241m=\u001b[39m \u001b[43mmodel\u001b[49m\u001b[43m(\u001b[49m\u001b[43mdata\u001b[49m\u001b[43m,\u001b[49m\u001b[43m \u001b[49m\u001b[43mlabels\u001b[49m\u001b[43m)\u001b[49m\n\u001b[1;32m     17\u001b[0m \u001b[38;5;66;03m#TODO: backward pass\u001b[39;00m\n\u001b[1;32m     18\u001b[0m \u001b[38;5;28mprint\u001b[39m(\u001b[38;5;124m\"\u001b[39m\u001b[38;5;124mPred: \u001b[39m\u001b[38;5;124m\"\u001b[39m,pred\u001b[38;5;241m.\u001b[39mshape)\n",
      "File \u001b[0;32m~/anaconda3/envs/jupyter-lab/lib/python3.10/site-packages/torch/nn/modules/module.py:1130\u001b[0m, in \u001b[0;36mModule._call_impl\u001b[0;34m(self, *input, **kwargs)\u001b[0m\n\u001b[1;32m   1126\u001b[0m \u001b[38;5;66;03m# If we don't have any hooks, we want to skip the rest of the logic in\u001b[39;00m\n\u001b[1;32m   1127\u001b[0m \u001b[38;5;66;03m# this function, and just call forward.\u001b[39;00m\n\u001b[1;32m   1128\u001b[0m \u001b[38;5;28;01mif\u001b[39;00m \u001b[38;5;129;01mnot\u001b[39;00m (\u001b[38;5;28mself\u001b[39m\u001b[38;5;241m.\u001b[39m_backward_hooks \u001b[38;5;129;01mor\u001b[39;00m \u001b[38;5;28mself\u001b[39m\u001b[38;5;241m.\u001b[39m_forward_hooks \u001b[38;5;129;01mor\u001b[39;00m \u001b[38;5;28mself\u001b[39m\u001b[38;5;241m.\u001b[39m_forward_pre_hooks \u001b[38;5;129;01mor\u001b[39;00m _global_backward_hooks\n\u001b[1;32m   1129\u001b[0m         \u001b[38;5;129;01mor\u001b[39;00m _global_forward_hooks \u001b[38;5;129;01mor\u001b[39;00m _global_forward_pre_hooks):\n\u001b[0;32m-> 1130\u001b[0m     \u001b[38;5;28;01mreturn\u001b[39;00m \u001b[43mforward_call\u001b[49m\u001b[43m(\u001b[49m\u001b[38;5;241;43m*\u001b[39;49m\u001b[38;5;28;43minput\u001b[39;49m\u001b[43m,\u001b[49m\u001b[43m \u001b[49m\u001b[38;5;241;43m*\u001b[39;49m\u001b[38;5;241;43m*\u001b[39;49m\u001b[43mkwargs\u001b[49m\u001b[43m)\u001b[49m\n\u001b[1;32m   1131\u001b[0m \u001b[38;5;66;03m# Do not call functions when jit is used\u001b[39;00m\n\u001b[1;32m   1132\u001b[0m full_backward_hooks, non_full_backward_hooks \u001b[38;5;241m=\u001b[39m [], []\n",
      "File \u001b[0;32m~/master-thesis/models/tstransformer/Models.py:345\u001b[0m, in \u001b[0;36mTransformer.forward\u001b[0;34m(self, src_seq, trg_seq)\u001b[0m\n\u001b[1;32m    341\u001b[0m src_mask \u001b[38;5;241m=\u001b[39m get_pad_mask(src_seq, \u001b[38;5;28mself\u001b[39m\u001b[38;5;241m.\u001b[39msrc_pad_idx)\n\u001b[1;32m    342\u001b[0m trg_mask \u001b[38;5;241m=\u001b[39m get_pad_mask(trg_seq, \u001b[38;5;28mself\u001b[39m\u001b[38;5;241m.\u001b[39mtrg_pad_idx) \u001b[38;5;241m&\u001b[39m get_subsequent_mask(trg_seq)\n\u001b[0;32m--> 345\u001b[0m enc_output, \u001b[38;5;241m*\u001b[39m_ \u001b[38;5;241m=\u001b[39m \u001b[38;5;28;43mself\u001b[39;49m\u001b[38;5;241;43m.\u001b[39;49m\u001b[43mencoder\u001b[49m\u001b[43m(\u001b[49m\u001b[43msrc_seq\u001b[49m\u001b[43m,\u001b[49m\u001b[43m \u001b[49m\u001b[43msrc_mask\u001b[49m\u001b[43m)\u001b[49m\n\u001b[1;32m    347\u001b[0m \u001b[38;5;28mprint\u001b[39m(\u001b[38;5;124m\"\u001b[39m\u001b[38;5;124mEncoder Output: \u001b[39m\u001b[38;5;124m\"\u001b[39m,enc_output\u001b[38;5;241m.\u001b[39mshape)\n\u001b[1;32m    349\u001b[0m dec_output, \u001b[38;5;241m*\u001b[39m_ \u001b[38;5;241m=\u001b[39m \u001b[38;5;28mself\u001b[39m\u001b[38;5;241m.\u001b[39mdecoder(trg_seq, trg_mask, enc_output, src_mask)\n",
      "File \u001b[0;32m~/anaconda3/envs/jupyter-lab/lib/python3.10/site-packages/torch/nn/modules/module.py:1130\u001b[0m, in \u001b[0;36mModule._call_impl\u001b[0;34m(self, *input, **kwargs)\u001b[0m\n\u001b[1;32m   1126\u001b[0m \u001b[38;5;66;03m# If we don't have any hooks, we want to skip the rest of the logic in\u001b[39;00m\n\u001b[1;32m   1127\u001b[0m \u001b[38;5;66;03m# this function, and just call forward.\u001b[39;00m\n\u001b[1;32m   1128\u001b[0m \u001b[38;5;28;01mif\u001b[39;00m \u001b[38;5;129;01mnot\u001b[39;00m (\u001b[38;5;28mself\u001b[39m\u001b[38;5;241m.\u001b[39m_backward_hooks \u001b[38;5;129;01mor\u001b[39;00m \u001b[38;5;28mself\u001b[39m\u001b[38;5;241m.\u001b[39m_forward_hooks \u001b[38;5;129;01mor\u001b[39;00m \u001b[38;5;28mself\u001b[39m\u001b[38;5;241m.\u001b[39m_forward_pre_hooks \u001b[38;5;129;01mor\u001b[39;00m _global_backward_hooks\n\u001b[1;32m   1129\u001b[0m         \u001b[38;5;129;01mor\u001b[39;00m _global_forward_hooks \u001b[38;5;129;01mor\u001b[39;00m _global_forward_pre_hooks):\n\u001b[0;32m-> 1130\u001b[0m     \u001b[38;5;28;01mreturn\u001b[39;00m \u001b[43mforward_call\u001b[49m\u001b[43m(\u001b[49m\u001b[38;5;241;43m*\u001b[39;49m\u001b[38;5;28;43minput\u001b[39;49m\u001b[43m,\u001b[49m\u001b[43m \u001b[49m\u001b[38;5;241;43m*\u001b[39;49m\u001b[38;5;241;43m*\u001b[39;49m\u001b[43mkwargs\u001b[49m\u001b[43m)\u001b[49m\n\u001b[1;32m   1131\u001b[0m \u001b[38;5;66;03m# Do not call functions when jit is used\u001b[39;00m\n\u001b[1;32m   1132\u001b[0m full_backward_hooks, non_full_backward_hooks \u001b[38;5;241m=\u001b[39m [], []\n",
      "File \u001b[0;32m~/master-thesis/models/tstransformer/Models.py:133\u001b[0m, in \u001b[0;36mEncoder.forward\u001b[0;34m(self, src_seq, src_mask, return_attns)\u001b[0m\n\u001b[1;32m    131\u001b[0m \u001b[38;5;66;03m# Run through encoder layers\u001b[39;00m\n\u001b[1;32m    132\u001b[0m \u001b[38;5;28;01mfor\u001b[39;00m enc_layer \u001b[38;5;129;01min\u001b[39;00m \u001b[38;5;28mself\u001b[39m\u001b[38;5;241m.\u001b[39mlayer_stack:\n\u001b[0;32m--> 133\u001b[0m     enc_output, enc_slf_attn \u001b[38;5;241m=\u001b[39m \u001b[43menc_layer\u001b[49m\u001b[43m(\u001b[49m\u001b[43menc_output\u001b[49m\u001b[43m,\u001b[49m\u001b[43m \u001b[49m\u001b[43mslf_attn_mask\u001b[49m\u001b[38;5;241;43m=\u001b[39;49m\u001b[43msrc_mask\u001b[49m\u001b[43m)\u001b[49m\n\u001b[1;32m    134\u001b[0m     enc_slf_attn_list \u001b[38;5;241m+\u001b[39m\u001b[38;5;241m=\u001b[39m [enc_slf_attn] \u001b[38;5;28;01mif\u001b[39;00m return_attns \u001b[38;5;28;01melse\u001b[39;00m []\n\u001b[1;32m    137\u001b[0m \u001b[38;5;28;01mif\u001b[39;00m return_attns:\n",
      "File \u001b[0;32m~/anaconda3/envs/jupyter-lab/lib/python3.10/site-packages/torch/nn/modules/module.py:1130\u001b[0m, in \u001b[0;36mModule._call_impl\u001b[0;34m(self, *input, **kwargs)\u001b[0m\n\u001b[1;32m   1126\u001b[0m \u001b[38;5;66;03m# If we don't have any hooks, we want to skip the rest of the logic in\u001b[39;00m\n\u001b[1;32m   1127\u001b[0m \u001b[38;5;66;03m# this function, and just call forward.\u001b[39;00m\n\u001b[1;32m   1128\u001b[0m \u001b[38;5;28;01mif\u001b[39;00m \u001b[38;5;129;01mnot\u001b[39;00m (\u001b[38;5;28mself\u001b[39m\u001b[38;5;241m.\u001b[39m_backward_hooks \u001b[38;5;129;01mor\u001b[39;00m \u001b[38;5;28mself\u001b[39m\u001b[38;5;241m.\u001b[39m_forward_hooks \u001b[38;5;129;01mor\u001b[39;00m \u001b[38;5;28mself\u001b[39m\u001b[38;5;241m.\u001b[39m_forward_pre_hooks \u001b[38;5;129;01mor\u001b[39;00m _global_backward_hooks\n\u001b[1;32m   1129\u001b[0m         \u001b[38;5;129;01mor\u001b[39;00m _global_forward_hooks \u001b[38;5;129;01mor\u001b[39;00m _global_forward_pre_hooks):\n\u001b[0;32m-> 1130\u001b[0m     \u001b[38;5;28;01mreturn\u001b[39;00m \u001b[43mforward_call\u001b[49m\u001b[43m(\u001b[49m\u001b[38;5;241;43m*\u001b[39;49m\u001b[38;5;28;43minput\u001b[39;49m\u001b[43m,\u001b[49m\u001b[43m \u001b[49m\u001b[38;5;241;43m*\u001b[39;49m\u001b[38;5;241;43m*\u001b[39;49m\u001b[43mkwargs\u001b[49m\u001b[43m)\u001b[49m\n\u001b[1;32m   1131\u001b[0m \u001b[38;5;66;03m# Do not call functions when jit is used\u001b[39;00m\n\u001b[1;32m   1132\u001b[0m full_backward_hooks, non_full_backward_hooks \u001b[38;5;241m=\u001b[39m [], []\n",
      "File \u001b[0;32m~/master-thesis/models/tstransformer/Layers.py:50\u001b[0m, in \u001b[0;36mEncoderLayer.forward\u001b[0;34m(self, enc_input, slf_attn_mask)\u001b[0m\n\u001b[1;32m     38\u001b[0m \u001b[38;5;124;03m\"\"\"Performs one forward step through the layer\u001b[39;00m\n\u001b[1;32m     39\u001b[0m \u001b[38;5;124;03m\u001b[39;00m\n\u001b[1;32m     40\u001b[0m \u001b[38;5;124;03m:param: enc_input (torch.Tensor): Input to the encoder layer\u001b[39;00m\n\u001b[0;32m   (...)\u001b[0m\n\u001b[1;32m     44\u001b[0m \u001b[38;5;124;03m:return: enc_slf_attn():The Attention map from the MultiheadAttentionModule\u001b[39;00m\n\u001b[1;32m     45\u001b[0m \u001b[38;5;124;03m\"\"\"\u001b[39;00m\n\u001b[1;32m     47\u001b[0m \u001b[38;5;66;03m#enc_output, enc_slf_attn = self.slf_attn(enc_input, enc_input, enc_input, mask=slf_attn_mask)\u001b[39;00m\n\u001b[1;32m     48\u001b[0m \n\u001b[1;32m     49\u001b[0m \u001b[38;5;66;03m#TODO: Attention Mask is missing from input\u001b[39;00m\n\u001b[0;32m---> 50\u001b[0m enc_output, enc_slf_attn \u001b[38;5;241m=\u001b[39m \u001b[38;5;28;43mself\u001b[39;49m\u001b[38;5;241;43m.\u001b[39;49m\u001b[43mslf_attn\u001b[49m\u001b[43m(\u001b[49m\u001b[43menc_input\u001b[49m\u001b[43m,\u001b[49m\u001b[43menc_input\u001b[49m\u001b[43m,\u001b[49m\u001b[43menc_input\u001b[49m\u001b[43m,\u001b[49m\u001b[43m \u001b[49m\u001b[43mattn_mask\u001b[49m\u001b[43m \u001b[49m\u001b[38;5;241;43m=\u001b[39;49m\u001b[43mslf_attn_mask\u001b[49m\u001b[43m)\u001b[49m\n\u001b[1;32m     51\u001b[0m enc_output \u001b[38;5;241m=\u001b[39m \u001b[38;5;28mself\u001b[39m\u001b[38;5;241m.\u001b[39mpos_ffn(enc_output)\n\u001b[1;32m     52\u001b[0m \u001b[38;5;28;01mreturn\u001b[39;00m enc_output, enc_slf_attn\n",
      "File \u001b[0;32m~/anaconda3/envs/jupyter-lab/lib/python3.10/site-packages/torch/nn/modules/module.py:1130\u001b[0m, in \u001b[0;36mModule._call_impl\u001b[0;34m(self, *input, **kwargs)\u001b[0m\n\u001b[1;32m   1126\u001b[0m \u001b[38;5;66;03m# If we don't have any hooks, we want to skip the rest of the logic in\u001b[39;00m\n\u001b[1;32m   1127\u001b[0m \u001b[38;5;66;03m# this function, and just call forward.\u001b[39;00m\n\u001b[1;32m   1128\u001b[0m \u001b[38;5;28;01mif\u001b[39;00m \u001b[38;5;129;01mnot\u001b[39;00m (\u001b[38;5;28mself\u001b[39m\u001b[38;5;241m.\u001b[39m_backward_hooks \u001b[38;5;129;01mor\u001b[39;00m \u001b[38;5;28mself\u001b[39m\u001b[38;5;241m.\u001b[39m_forward_hooks \u001b[38;5;129;01mor\u001b[39;00m \u001b[38;5;28mself\u001b[39m\u001b[38;5;241m.\u001b[39m_forward_pre_hooks \u001b[38;5;129;01mor\u001b[39;00m _global_backward_hooks\n\u001b[1;32m   1129\u001b[0m         \u001b[38;5;129;01mor\u001b[39;00m _global_forward_hooks \u001b[38;5;129;01mor\u001b[39;00m _global_forward_pre_hooks):\n\u001b[0;32m-> 1130\u001b[0m     \u001b[38;5;28;01mreturn\u001b[39;00m \u001b[43mforward_call\u001b[49m\u001b[43m(\u001b[49m\u001b[38;5;241;43m*\u001b[39;49m\u001b[38;5;28;43minput\u001b[39;49m\u001b[43m,\u001b[49m\u001b[43m \u001b[49m\u001b[38;5;241;43m*\u001b[39;49m\u001b[38;5;241;43m*\u001b[39;49m\u001b[43mkwargs\u001b[49m\u001b[43m)\u001b[49m\n\u001b[1;32m   1131\u001b[0m \u001b[38;5;66;03m# Do not call functions when jit is used\u001b[39;00m\n\u001b[1;32m   1132\u001b[0m full_backward_hooks, non_full_backward_hooks \u001b[38;5;241m=\u001b[39m [], []\n",
      "File \u001b[0;32m~/anaconda3/envs/jupyter-lab/lib/python3.10/site-packages/torch/nn/modules/activation.py:1142\u001b[0m, in \u001b[0;36mMultiheadAttention.forward\u001b[0;34m(self, query, key, value, key_padding_mask, need_weights, attn_mask, average_attn_weights)\u001b[0m\n\u001b[1;32m   1139\u001b[0m         query, key, value \u001b[38;5;241m=\u001b[39m [x\u001b[38;5;241m.\u001b[39mtranspose(\u001b[38;5;241m1\u001b[39m, \u001b[38;5;241m0\u001b[39m) \u001b[38;5;28;01mfor\u001b[39;00m x \u001b[38;5;129;01min\u001b[39;00m (query, key, value)]\n\u001b[1;32m   1141\u001b[0m \u001b[38;5;28;01mif\u001b[39;00m \u001b[38;5;129;01mnot\u001b[39;00m \u001b[38;5;28mself\u001b[39m\u001b[38;5;241m.\u001b[39m_qkv_same_embed_dim:\n\u001b[0;32m-> 1142\u001b[0m     attn_output, attn_output_weights \u001b[38;5;241m=\u001b[39m \u001b[43mF\u001b[49m\u001b[38;5;241;43m.\u001b[39;49m\u001b[43mmulti_head_attention_forward\u001b[49m\u001b[43m(\u001b[49m\n\u001b[1;32m   1143\u001b[0m \u001b[43m        \u001b[49m\u001b[43mquery\u001b[49m\u001b[43m,\u001b[49m\u001b[43m \u001b[49m\u001b[43mkey\u001b[49m\u001b[43m,\u001b[49m\u001b[43m \u001b[49m\u001b[43mvalue\u001b[49m\u001b[43m,\u001b[49m\u001b[43m \u001b[49m\u001b[38;5;28;43mself\u001b[39;49m\u001b[38;5;241;43m.\u001b[39;49m\u001b[43membed_dim\u001b[49m\u001b[43m,\u001b[49m\u001b[43m \u001b[49m\u001b[38;5;28;43mself\u001b[39;49m\u001b[38;5;241;43m.\u001b[39;49m\u001b[43mnum_heads\u001b[49m\u001b[43m,\u001b[49m\n\u001b[1;32m   1144\u001b[0m \u001b[43m        \u001b[49m\u001b[38;5;28;43mself\u001b[39;49m\u001b[38;5;241;43m.\u001b[39;49m\u001b[43min_proj_weight\u001b[49m\u001b[43m,\u001b[49m\u001b[43m \u001b[49m\u001b[38;5;28;43mself\u001b[39;49m\u001b[38;5;241;43m.\u001b[39;49m\u001b[43min_proj_bias\u001b[49m\u001b[43m,\u001b[49m\n\u001b[1;32m   1145\u001b[0m \u001b[43m        \u001b[49m\u001b[38;5;28;43mself\u001b[39;49m\u001b[38;5;241;43m.\u001b[39;49m\u001b[43mbias_k\u001b[49m\u001b[43m,\u001b[49m\u001b[43m \u001b[49m\u001b[38;5;28;43mself\u001b[39;49m\u001b[38;5;241;43m.\u001b[39;49m\u001b[43mbias_v\u001b[49m\u001b[43m,\u001b[49m\u001b[43m \u001b[49m\u001b[38;5;28;43mself\u001b[39;49m\u001b[38;5;241;43m.\u001b[39;49m\u001b[43madd_zero_attn\u001b[49m\u001b[43m,\u001b[49m\n\u001b[1;32m   1146\u001b[0m \u001b[43m        \u001b[49m\u001b[38;5;28;43mself\u001b[39;49m\u001b[38;5;241;43m.\u001b[39;49m\u001b[43mdropout\u001b[49m\u001b[43m,\u001b[49m\u001b[43m \u001b[49m\u001b[38;5;28;43mself\u001b[39;49m\u001b[38;5;241;43m.\u001b[39;49m\u001b[43mout_proj\u001b[49m\u001b[38;5;241;43m.\u001b[39;49m\u001b[43mweight\u001b[49m\u001b[43m,\u001b[49m\u001b[43m \u001b[49m\u001b[38;5;28;43mself\u001b[39;49m\u001b[38;5;241;43m.\u001b[39;49m\u001b[43mout_proj\u001b[49m\u001b[38;5;241;43m.\u001b[39;49m\u001b[43mbias\u001b[49m\u001b[43m,\u001b[49m\n\u001b[1;32m   1147\u001b[0m \u001b[43m        \u001b[49m\u001b[43mtraining\u001b[49m\u001b[38;5;241;43m=\u001b[39;49m\u001b[38;5;28;43mself\u001b[39;49m\u001b[38;5;241;43m.\u001b[39;49m\u001b[43mtraining\u001b[49m\u001b[43m,\u001b[49m\n\u001b[1;32m   1148\u001b[0m \u001b[43m        \u001b[49m\u001b[43mkey_padding_mask\u001b[49m\u001b[38;5;241;43m=\u001b[39;49m\u001b[43mkey_padding_mask\u001b[49m\u001b[43m,\u001b[49m\u001b[43m \u001b[49m\u001b[43mneed_weights\u001b[49m\u001b[38;5;241;43m=\u001b[39;49m\u001b[43mneed_weights\u001b[49m\u001b[43m,\u001b[49m\n\u001b[1;32m   1149\u001b[0m \u001b[43m        \u001b[49m\u001b[43mattn_mask\u001b[49m\u001b[38;5;241;43m=\u001b[39;49m\u001b[43mattn_mask\u001b[49m\u001b[43m,\u001b[49m\u001b[43m \u001b[49m\u001b[43muse_separate_proj_weight\u001b[49m\u001b[38;5;241;43m=\u001b[39;49m\u001b[38;5;28;43;01mTrue\u001b[39;49;00m\u001b[43m,\u001b[49m\n\u001b[1;32m   1150\u001b[0m \u001b[43m        \u001b[49m\u001b[43mq_proj_weight\u001b[49m\u001b[38;5;241;43m=\u001b[39;49m\u001b[38;5;28;43mself\u001b[39;49m\u001b[38;5;241;43m.\u001b[39;49m\u001b[43mq_proj_weight\u001b[49m\u001b[43m,\u001b[49m\u001b[43m \u001b[49m\u001b[43mk_proj_weight\u001b[49m\u001b[38;5;241;43m=\u001b[39;49m\u001b[38;5;28;43mself\u001b[39;49m\u001b[38;5;241;43m.\u001b[39;49m\u001b[43mk_proj_weight\u001b[49m\u001b[43m,\u001b[49m\n\u001b[1;32m   1151\u001b[0m \u001b[43m        \u001b[49m\u001b[43mv_proj_weight\u001b[49m\u001b[38;5;241;43m=\u001b[39;49m\u001b[38;5;28;43mself\u001b[39;49m\u001b[38;5;241;43m.\u001b[39;49m\u001b[43mv_proj_weight\u001b[49m\u001b[43m,\u001b[49m\u001b[43m \u001b[49m\u001b[43maverage_attn_weights\u001b[49m\u001b[38;5;241;43m=\u001b[39;49m\u001b[43maverage_attn_weights\u001b[49m\u001b[43m)\u001b[49m\n\u001b[1;32m   1152\u001b[0m \u001b[38;5;28;01melse\u001b[39;00m:\n\u001b[1;32m   1153\u001b[0m     attn_output, attn_output_weights \u001b[38;5;241m=\u001b[39m F\u001b[38;5;241m.\u001b[39mmulti_head_attention_forward(\n\u001b[1;32m   1154\u001b[0m         query, key, value, \u001b[38;5;28mself\u001b[39m\u001b[38;5;241m.\u001b[39membed_dim, \u001b[38;5;28mself\u001b[39m\u001b[38;5;241m.\u001b[39mnum_heads,\n\u001b[1;32m   1155\u001b[0m         \u001b[38;5;28mself\u001b[39m\u001b[38;5;241m.\u001b[39min_proj_weight, \u001b[38;5;28mself\u001b[39m\u001b[38;5;241m.\u001b[39min_proj_bias,\n\u001b[0;32m   (...)\u001b[0m\n\u001b[1;32m   1159\u001b[0m         key_padding_mask\u001b[38;5;241m=\u001b[39mkey_padding_mask, need_weights\u001b[38;5;241m=\u001b[39mneed_weights,\n\u001b[1;32m   1160\u001b[0m         attn_mask\u001b[38;5;241m=\u001b[39mattn_mask, average_attn_weights\u001b[38;5;241m=\u001b[39maverage_attn_weights)\n",
      "File \u001b[0;32m~/anaconda3/envs/jupyter-lab/lib/python3.10/site-packages/torch/nn/functional.py:5030\u001b[0m, in \u001b[0;36mmulti_head_attention_forward\u001b[0;34m(query, key, value, embed_dim_to_check, num_heads, in_proj_weight, in_proj_bias, bias_k, bias_v, add_zero_attn, dropout_p, out_proj_weight, out_proj_bias, training, key_padding_mask, need_weights, attn_mask, use_separate_proj_weight, q_proj_weight, k_proj_weight, v_proj_weight, static_k, static_v, average_attn_weights)\u001b[0m\n\u001b[1;32m   5000\u001b[0m \u001b[38;5;28;01mif\u001b[39;00m has_torch_function(tens_ops):\n\u001b[1;32m   5001\u001b[0m     \u001b[38;5;28;01mreturn\u001b[39;00m handle_torch_function(\n\u001b[1;32m   5002\u001b[0m         multi_head_attention_forward,\n\u001b[1;32m   5003\u001b[0m         tens_ops,\n\u001b[0;32m   (...)\u001b[0m\n\u001b[1;32m   5027\u001b[0m         average_attn_weights\u001b[38;5;241m=\u001b[39maverage_attn_weights,\n\u001b[1;32m   5028\u001b[0m     )\n\u001b[0;32m-> 5030\u001b[0m is_batched \u001b[38;5;241m=\u001b[39m \u001b[43m_mha_shape_check\u001b[49m\u001b[43m(\u001b[49m\u001b[43mquery\u001b[49m\u001b[43m,\u001b[49m\u001b[43m \u001b[49m\u001b[43mkey\u001b[49m\u001b[43m,\u001b[49m\u001b[43m \u001b[49m\u001b[43mvalue\u001b[49m\u001b[43m,\u001b[49m\u001b[43m \u001b[49m\u001b[43mkey_padding_mask\u001b[49m\u001b[43m,\u001b[49m\u001b[43m \u001b[49m\u001b[43mattn_mask\u001b[49m\u001b[43m,\u001b[49m\u001b[43m \u001b[49m\u001b[43mnum_heads\u001b[49m\u001b[43m)\u001b[49m\n\u001b[1;32m   5032\u001b[0m \u001b[38;5;66;03m# For unbatched input, we unsqueeze at the expected batch-dim to pretend that the input\u001b[39;00m\n\u001b[1;32m   5033\u001b[0m \u001b[38;5;66;03m# is batched, run the computation and before returning squeeze the\u001b[39;00m\n\u001b[1;32m   5034\u001b[0m \u001b[38;5;66;03m# batch dimension so that the output doesn't carry this temporary batch dimension.\u001b[39;00m\n\u001b[1;32m   5035\u001b[0m \u001b[38;5;28;01mif\u001b[39;00m \u001b[38;5;129;01mnot\u001b[39;00m is_batched:\n\u001b[1;32m   5036\u001b[0m     \u001b[38;5;66;03m# unsqueeze if the input is unbatched\u001b[39;00m\n",
      "File \u001b[0;32m~/anaconda3/envs/jupyter-lab/lib/python3.10/site-packages/torch/nn/functional.py:4882\u001b[0m, in \u001b[0;36m_mha_shape_check\u001b[0;34m(query, key, value, key_padding_mask, attn_mask, num_heads)\u001b[0m\n\u001b[1;32m   4878\u001b[0m         \u001b[38;5;28;01massert\u001b[39;00m key_padding_mask\u001b[38;5;241m.\u001b[39mdim() \u001b[38;5;241m==\u001b[39m \u001b[38;5;241m2\u001b[39m, \\\n\u001b[1;32m   4879\u001b[0m             (\u001b[38;5;124m\"\u001b[39m\u001b[38;5;124mFor batched (3-D) `query`, expected `key_padding_mask` to be `None` or 2-D\u001b[39m\u001b[38;5;124m\"\u001b[39m\n\u001b[1;32m   4880\u001b[0m              \u001b[38;5;124mf\u001b[39m\u001b[38;5;124m\"\u001b[39m\u001b[38;5;124m but found \u001b[39m\u001b[38;5;132;01m{\u001b[39;00mkey_padding_mask\u001b[38;5;241m.\u001b[39mdim()\u001b[38;5;132;01m}\u001b[39;00m\u001b[38;5;124m-D tensor instead\u001b[39m\u001b[38;5;124m\"\u001b[39m)\n\u001b[1;32m   4881\u001b[0m     \u001b[38;5;28;01mif\u001b[39;00m attn_mask \u001b[38;5;129;01mis\u001b[39;00m \u001b[38;5;129;01mnot\u001b[39;00m \u001b[38;5;28;01mNone\u001b[39;00m:\n\u001b[0;32m-> 4882\u001b[0m         \u001b[38;5;28;01massert\u001b[39;00m attn_mask\u001b[38;5;241m.\u001b[39mdim() \u001b[38;5;129;01min\u001b[39;00m (\u001b[38;5;241m2\u001b[39m, \u001b[38;5;241m3\u001b[39m), \\\n\u001b[1;32m   4883\u001b[0m             (\u001b[38;5;124m\"\u001b[39m\u001b[38;5;124mFor batched (3-D) `query`, expected `attn_mask` to be `None`, 2-D or 3-D\u001b[39m\u001b[38;5;124m\"\u001b[39m\n\u001b[1;32m   4884\u001b[0m              \u001b[38;5;124mf\u001b[39m\u001b[38;5;124m\"\u001b[39m\u001b[38;5;124m but found \u001b[39m\u001b[38;5;132;01m{\u001b[39;00mattn_mask\u001b[38;5;241m.\u001b[39mdim()\u001b[38;5;132;01m}\u001b[39;00m\u001b[38;5;124m-D tensor instead\u001b[39m\u001b[38;5;124m\"\u001b[39m)\n\u001b[1;32m   4885\u001b[0m \u001b[38;5;28;01melif\u001b[39;00m query\u001b[38;5;241m.\u001b[39mdim() \u001b[38;5;241m==\u001b[39m \u001b[38;5;241m2\u001b[39m:\n\u001b[1;32m   4886\u001b[0m     \u001b[38;5;66;03m# Unbatched Inputs\u001b[39;00m\n\u001b[1;32m   4887\u001b[0m     is_batched \u001b[38;5;241m=\u001b[39m \u001b[38;5;28;01mFalse\u001b[39;00m\n",
      "\u001b[0;31mAssertionError\u001b[0m: For batched (3-D) `query`, expected `attn_mask` to be `None`, 2-D or 3-D but found 4-D tensor instead"
     ]
    }
   ],
   "source": [
    "train(transformer,train_dataloader,train_dataloader,optimizer,device,opt)"
   ]
  },
  {
   "cell_type": "markdown",
   "id": "7f0ca8dd-0fa4-4c0e-8b48-504d02cdd8c1",
   "metadata": {},
   "source": [
    "# DataLoader and Transformer"
   ]
  },
  {
   "cell_type": "code",
   "execution_count": 18,
   "id": "ef0c0431-952f-4ebc-8e6b-b7530675cc5d",
   "metadata": {},
   "outputs": [],
   "source": [
    "# Load Dataset\n",
    "opt = get_options()\n",
    "\n",
    "train_split, test_split = train_test_split(aq_prep, test_size=0.10)\n",
    "\n",
    "train_dataset, train_dataloader = prepare_dataloaders(train_split.values, opt[\"batch_size\"],window_size=10)\n",
    "test_dataset, test_dataloader = prepare_dataloaders(test_split.values,  opt[\"batch_size\"],window_size=10)\n",
    "\n",
    "opt[\"src_sequence_size\"] = 11\n",
    "opt[\"trg_sequence_size\"] = 11\n",
    "opt[\"src_pad_idx\"] = 0\n",
    "opt[\"trg_pad_idx\"] = 0\n",
    "\n",
    "# Define Transformer\n",
    "transformer = Transformer(\n",
    "        n_src_sequence=opt[\"src_sequence_size\"],\n",
    "        n_trg_sequence=opt[\"trg_sequence_size\"],\n",
    "        src_pad_idx=opt[\"src_pad_idx\"],\n",
    "        trg_pad_idx=opt[\"trg_pad_idx\"],\n",
    "        trg_emb_prj_weight_sharing=opt[\"proj_share_weight\"],\n",
    "        emb_src_trg_weight_sharing=opt[\"embs_share_weight\"],\n",
    "        d_k=opt[\"d_key\"],\n",
    "        d_v=opt[\"d_value\"],\n",
    "        d_model=opt[\"d_model\"],\n",
    "        d_sequence_vec=opt[\"d_sequence\"],\n",
    "        d_inner=opt[\"d_inner_hidden\"],\n",
    "        n_layers=opt[\"n_layers\"],\n",
    "        n_head=opt[\"n_head\"],\n",
    "        dropout=opt[\"dropout\"],\n",
    "        n_position=opt[\"d_sequence\"],\n",
    "        scale_emb_or_prj=opt[\"scale_emb_or_prj\"]).to(device)\n",
    "\n",
    "# Define Optimizer\n",
    "optimizer = ScheduledOptim(\n",
    "                optim.Adam(transformer.parameters(), betas=(0.9, 0.98), eps=1e-09),\n",
    "                opt[\"lr_mul\"], opt[\"d_model\"], opt[\"n_warmup_steps\"])\n",
    "\n",
    "# Start the training process\n",
    "# train(transformer, train_dataloader, train_dataloader, optimizer, device, opt)"
   ]
  },
  {
   "cell_type": "code",
   "execution_count": 11,
   "id": "a6b36796-543c-4a0c-9936-8c247dbcc6be",
   "metadata": {
    "tags": []
   },
   "outputs": [
    {
     "data": {
      "text/plain": [
       "Transformer(\n",
       "  (encoder): Encoder(\n",
       "    (linear_emb): Linear(in_features=11, out_features=512, bias=True)\n",
       "    (position_enc): PositionalEncoding()\n",
       "    (dropout): Dropout(p=0.1, inplace=False)\n",
       "    (layer_stack): ModuleList(\n",
       "      (0): EncoderLayer(\n",
       "        (slf_attn): MultiheadAttention(\n",
       "          (out_proj): NonDynamicallyQuantizableLinear(in_features=512, out_features=512, bias=True)\n",
       "        )\n",
       "        (pos_ffn): PositionwiseFeedForward(\n",
       "          (w_1): Linear(in_features=512, out_features=2048, bias=True)\n",
       "          (w_2): Linear(in_features=2048, out_features=512, bias=True)\n",
       "          (layer_norm): LayerNorm((512,), eps=1e-06, elementwise_affine=True)\n",
       "          (dropout): Dropout(p=0.1, inplace=False)\n",
       "        )\n",
       "      )\n",
       "    )\n",
       "    (layer_norm): LayerNorm((512,), eps=1e-06, elementwise_affine=True)\n",
       "  )\n",
       "  (decoder): Decoder(\n",
       "    (linear_emb): Linear(in_features=11, out_features=512, bias=True)\n",
       "    (position_enc): PositionalEncoding()\n",
       "    (dropout): Dropout(p=0.1, inplace=False)\n",
       "    (layer_stack): ModuleList(\n",
       "      (0): DecoderLayer(\n",
       "        (slf_attn): MultiheadAttention(\n",
       "          (out_proj): NonDynamicallyQuantizableLinear(in_features=512, out_features=512, bias=True)\n",
       "        )\n",
       "        (enc_attn): MultiheadAttention(\n",
       "          (out_proj): NonDynamicallyQuantizableLinear(in_features=512, out_features=512, bias=True)\n",
       "        )\n",
       "        (pos_ffn): PositionwiseFeedForward(\n",
       "          (w_1): Linear(in_features=512, out_features=2048, bias=True)\n",
       "          (w_2): Linear(in_features=2048, out_features=512, bias=True)\n",
       "          (layer_norm): LayerNorm((512,), eps=1e-06, elementwise_affine=True)\n",
       "          (dropout): Dropout(p=0.1, inplace=False)\n",
       "        )\n",
       "      )\n",
       "    )\n",
       "    (layer_norm): LayerNorm((512,), eps=1e-06, elementwise_affine=True)\n",
       "  )\n",
       "  (trg_sequence_prj): Linear(in_features=512, out_features=11, bias=False)\n",
       ")"
      ]
     },
     "execution_count": 11,
     "metadata": {},
     "output_type": "execute_result"
    }
   ],
   "source": [
    "transformer"
   ]
  },
  {
   "cell_type": "code",
   "execution_count": null,
   "id": "f7569561-3eac-4ded-a146-e98b278fe9fc",
   "metadata": {},
   "outputs": [],
   "source": []
  }
 ],
 "metadata": {
  "kernelspec": {
   "display_name": "jupyter-lab",
   "language": "python",
   "name": "jupyter-lab"
  },
  "language_info": {
   "codemirror_mode": {
    "name": "ipython",
    "version": 3
   },
   "file_extension": ".py",
   "mimetype": "text/x-python",
   "name": "python",
   "nbconvert_exporter": "python",
   "pygments_lexer": "ipython3",
   "version": "3.10.4"
  }
 },
 "nbformat": 4,
 "nbformat_minor": 5
}
