{
 "cells": [
  {
   "cell_type": "code",
   "execution_count": 11,
   "id": "0df38f92-be7a-433e-93bd-a8c51e06e572",
   "metadata": {},
   "outputs": [
    {
     "name": "stdout",
     "output_type": "stream",
     "text": [
      "The autoreload extension is already loaded. To reload it, use:\n",
      "  %reload_ext autoreload\n"
     ]
    }
   ],
   "source": [
    "%load_ext autoreload"
   ]
  },
  {
   "cell_type": "code",
   "execution_count": 34,
   "id": "d62974dd-a418-4011-8ff0-574caa095a52",
   "metadata": {},
   "outputs": [],
   "source": [
    "# Utilities \n",
    "from options.options import is_notebook, get_options, update_options, print_options\n",
    "import argparse\n",
    "import math\n",
    "import time\n",
    "import random\n",
    "import os\n",
    "from tqdm import tqdm\n",
    "\n",
    "# Data\n",
    "import numpy as np\n",
    "from sklearn.model_selection import train_test_split\n",
    "from datautils.ts_dataset import TSDataset\n",
    "from datautils.data import prepare_dataloaders\n",
    "import pandas as pd\n",
    "\n",
    "# Torch\n",
    "import torch\n",
    "import torch.nn.functional as F\n",
    "import torch.optim as optim\n",
    "from torch.utils.data import DataLoader\n",
    "\n",
    "# Transformer\n",
    "import transformer.Constants as Constants\n",
    "from transformer.Models import Transformer\n",
    "from transformer.Optim import ScheduledOptim\n",
    "\n",
    "%autoreload 2"
   ]
  },
  {
   "cell_type": "code",
   "execution_count": null,
   "id": "5e4e8a0b-3b3d-4156-a492-9ee151888fa5",
   "metadata": {},
   "outputs": [],
   "source": [
    "opt = get_options()\n",
    "print_options(opt)"
   ]
  },
  {
   "cell_type": "code",
   "execution_count": null,
   "id": "f5480c8c-4598-4786-ab3e-34dea99cd21d",
   "metadata": {
    "tags": []
   },
   "outputs": [],
   "source": [
    "# https://pytorch.org/docs/stable/notes/randomness.html\n",
    "# For reproducibility\n",
    "if opt[\"seed\"] is not None:\n",
    "    torch.manual_seed(opt[\"seed\"])\n",
    "    torch.backends.cudnn.benchmark = False\n",
    "    # torch.set_deterministic(True)\n",
    "    np.random.seed(opt[\"seed\"])\n",
    "    random.seed(opt[\"seed\"])"
   ]
  },
  {
   "cell_type": "code",
   "execution_count": null,
   "id": "26c031fb-080e-40f1-b4b4-06f7358acd1d",
   "metadata": {},
   "outputs": [],
   "source": [
    "if not opt[\"output_dir\"]:\n",
    "    print('No experiment result will be saved.')\n",
    "    raise"
   ]
  },
  {
   "cell_type": "code",
   "execution_count": null,
   "id": "d972728e-4997-46e7-a939-3e43cb44a792",
   "metadata": {},
   "outputs": [],
   "source": [
    "if not os.path.exists(opt[\"output_dir\"]):\n",
    "    os.makedirs(opt[\"output_dir\"])"
   ]
  },
  {
   "cell_type": "code",
   "execution_count": null,
   "id": "42c0a9f6-e82a-4d3d-8933-6a0734aec5bc",
   "metadata": {},
   "outputs": [],
   "source": [
    "# define the cuda devide\n",
    "device = torch.device('cuda' if opt[\"cuda\"] else 'cpu')"
   ]
  },
  {
   "cell_type": "code",
   "execution_count": null,
   "id": "97591670-2d35-476c-923e-5618d1eb89d1",
   "metadata": {},
   "outputs": [],
   "source": [
    "# Load the dataset and preprocess it \n",
    "aq = pd.read_parquet(\"/home/yannic/master-thesis/data_air/prsa_data.parquet\")\n",
    "aq_prep = pd.concat([aq,pd.get_dummies(aq['station'], prefix='station',dummy_na=False)],axis=1).drop(['station'],axis=1).drop(columns=[\"wind_direction\"])"
   ]
  },
  {
   "cell_type": "code",
   "execution_count": null,
   "id": "ef0c0431-952f-4ebc-8e6b-b7530675cc5d",
   "metadata": {},
   "outputs": [],
   "source": [
    "#========= Loading Dataset =========#\n",
    "\n",
    "train, test = train_test_split(aq_prep, test_size=0.10)\n",
    "\n",
    "train_dataset, train_dataloader = prepare_dataloaders(train.values, opt[\"batch_size\"])\n",
    "test_dataset, test_dataloader = prepare_dataloaders(test.values,  opt[\"batch_size\"])\n",
    "\n",
    "\n",
    "\n",
    "# Define Transformer\n",
    "transformer = Transformer(\n",
    "        opt.src_vocab_size,\n",
    "        opt.trg_vocab_size,\n",
    "        src_pad_idx=opt.src_pad_idx,\n",
    "        trg_pad_idx=opt.trg_pad_idx,\n",
    "        trg_emb_prj_weight_sharing=opt.proj_share_weight,\n",
    "        emb_src_trg_weight_sharing=opt.embs_share_weight,\n",
    "        d_k=opt.d_k,\n",
    "        d_v=opt.d_v,\n",
    "        d_model=opt.d_model,\n",
    "        d_word_vec=opt.d_word_vec,\n",
    "        d_inner=opt.d_inner_hid,\n",
    "        n_layers=opt.n_layers,\n",
    "        n_head=opt.n_head,\n",
    "        dropout=opt.dropout,\n",
    "        scale_emb_or_prj=opt.scale_emb_or_prj).to(device)\n",
    "\n",
    "# # Define Optimizer\n",
    "# optimizer = ScheduledOptim(\n",
    "#                 optim.Adam(transformer.parameters(), betas=(0.9, 0.98), eps=1e-09),\n",
    "#                 opt.lr_mul, opt.d_model, opt.n_warmup_steps)\n",
    "# \n",
    "# # Start the training process\n",
    "# train(transformer, training_data, validation_data, optimizer, device, opt)"
   ]
  },
  {
   "cell_type": "markdown",
   "id": "7f0ca8dd-0fa4-4c0e-8b48-504d02cdd8c1",
   "metadata": {},
   "source": [
    "# Functions"
   ]
  },
  {
   "cell_type": "code",
   "execution_count": 85,
   "id": "a87dfe1a-94c2-4699-a551-0ad5c5a7683c",
   "metadata": {},
   "outputs": [],
   "source": [
    "from tstransformer.Layers import EncoderLayer, DecoderLayer\n",
    "from tstransformer.Models import PositionalEncoding\n",
    "%autoreload 2"
   ]
  },
  {
   "cell_type": "code",
   "execution_count": 92,
   "id": "a52ece13-74ad-4375-a645-3117d807c044",
   "metadata": {},
   "outputs": [],
   "source": [
    "pos = PositionalEncoding(2,4)"
   ]
  },
  {
   "cell_type": "code",
   "execution_count": 94,
   "id": "44120cb3-9044-469e-9d02-8b95d7c3732e",
   "metadata": {},
   "outputs": [
    {
     "data": {
      "text/plain": [
       "tensor([[[ 0.0000,  1.0000],\n",
       "         [ 0.8415,  0.5403],\n",
       "         [ 0.9093, -0.4161],\n",
       "         [ 0.1411, -0.9900]]])"
      ]
     },
     "execution_count": 94,
     "metadata": {},
     "output_type": "execute_result"
    }
   ],
   "source": [
    "pos.pos_table"
   ]
  },
  {
   "cell_type": "code",
   "execution_count": null,
   "id": "1377c6f8-6343-444d-b1e3-e68f324baf03",
   "metadata": {},
   "outputs": [],
   "source": [
    "size"
   ]
  }
 ],
 "metadata": {
  "kernelspec": {
   "display_name": "jupyter-lab",
   "language": "python",
   "name": "jupyter-lab"
  },
  "language_info": {
   "codemirror_mode": {
    "name": "ipython",
    "version": 3
   },
   "file_extension": ".py",
   "mimetype": "text/x-python",
   "name": "python",
   "nbconvert_exporter": "python",
   "pygments_lexer": "ipython3",
   "version": "3.10.4"
  }
 },
 "nbformat": 4,
 "nbformat_minor": 5
}
