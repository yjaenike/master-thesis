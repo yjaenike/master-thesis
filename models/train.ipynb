{
 "cells": [
  {
   "cell_type": "code",
   "execution_count": null,
   "id": "0df38f92-be7a-433e-93bd-a8c51e06e572",
   "metadata": {},
   "outputs": [],
   "source": [
    "%load_ext autoreload"
   ]
  },
  {
   "cell_type": "code",
   "execution_count": null,
   "id": "d62974dd-a418-4011-8ff0-574caa095a52",
   "metadata": {},
   "outputs": [],
   "source": [
    "# Utilities \n",
    "from options.options import is_notebook, get_options, update_options, print_options\n",
    "import argparse\n",
    "import math\n",
    "import time\n",
    "import random\n",
    "import os\n",
    "from tqdm import tqdm\n",
    "\n",
    "# Data\n",
    "import numpy as np\n",
    "from sklearn.model_selection import train_test_split\n",
    "from datautils.ts_dataset import TSDataset\n",
    "from datautils.data import prepare_dataloaders\n",
    "import pandas as pd\n",
    "\n",
    "# Torch\n",
    "import torch\n",
    "import torch.nn as nn\n",
    "import torch.nn.functional as F\n",
    "import torch.optim as optim\n",
    "from torch.utils.data import DataLoader\n",
    "\n",
    "# Transformer\n",
    "#import tstransformer.Constants as Constants\n",
    "from tstransformer.Models import Transformer\n",
    "from tstransformer.Optim import ScheduledOptim\n",
    "\n",
    "%autoreload 2"
   ]
  },
  {
   "cell_type": "code",
   "execution_count": null,
   "id": "8fa37698-c874-4c10-993c-f9c657d48bf3",
   "metadata": {},
   "outputs": [],
   "source": [
    "# Helper function to determin GPU usage\n",
    "def get_gpu_memory(name = \"GPU Memory\", verbose = True):\n",
    "    import nvidia_smi\n",
    "    nvidia_smi.nvmlInit()\n",
    "\n",
    "    handle = nvidia_smi.nvmlDeviceGetHandleByIndex(0)\n",
    "    # card id 0 hardcoded here, there is also a call to get all available card ids, so we could iterate\n",
    "\n",
    "    info = nvidia_smi.nvmlDeviceGetMemoryInfo(handle)\n",
    "    \n",
    "    memory = {\"total\":  info.total / (1024 * 1024), \"free\": info.free / (1024 * 1024), \"used\": info.used / (1024 * 1024)}\n",
    "    \n",
    "    if verbose:\n",
    "        print(\"#### \", name , \"####\")\n",
    "        print(\"Total memory:\", memory[\"total\"], \"MB\")\n",
    "        print(\"Free memory: \", memory[\"free\"], \"MB\")\n",
    "        print(\"Used memory: \", memory[\"used\"], \"MB\")\n",
    "        print(\"\")\n",
    "    \n",
    "    nvidia_smi.nvmlShutdown()\n",
    "    \n",
    "    return memory\n",
    "\n",
    "_=get_gpu_memory(\"Before\")\n",
    "torch.cuda.empty_cache()\n",
    "_=get_gpu_memory(\"After\")"
   ]
  },
  {
   "cell_type": "code",
   "execution_count": null,
   "id": "5e4e8a0b-3b3d-4156-a492-9ee151888fa5",
   "metadata": {},
   "outputs": [],
   "source": [
    "opt = get_options()\n",
    "print_options(opt)"
   ]
  },
  {
   "cell_type": "code",
   "execution_count": null,
   "id": "f5480c8c-4598-4786-ab3e-34dea99cd21d",
   "metadata": {
    "tags": []
   },
   "outputs": [],
   "source": [
    "# https://pytorch.org/docs/stable/notes/randomness.html\n",
    "# For reproducibility\n",
    "if opt[\"seed\"] is not None:\n",
    "    torch.manual_seed(opt[\"seed\"])\n",
    "    torch.backends.cudnn.benchmark = False\n",
    "    # torch.set_deterministic(True)\n",
    "    np.random.seed(opt[\"seed\"])\n",
    "    random.seed(opt[\"seed\"])"
   ]
  },
  {
   "cell_type": "code",
   "execution_count": null,
   "id": "26c031fb-080e-40f1-b4b4-06f7358acd1d",
   "metadata": {},
   "outputs": [],
   "source": [
    "if not opt[\"output_dir\"]:\n",
    "    print('No experiment result will be saved.')\n",
    "    raise"
   ]
  },
  {
   "cell_type": "code",
   "execution_count": null,
   "id": "d972728e-4997-46e7-a939-3e43cb44a792",
   "metadata": {},
   "outputs": [],
   "source": [
    "if not os.path.exists(opt[\"output_dir\"]):\n",
    "    os.makedirs(opt[\"output_dir\"])"
   ]
  },
  {
   "cell_type": "code",
   "execution_count": null,
   "id": "42c0a9f6-e82a-4d3d-8933-6a0734aec5bc",
   "metadata": {},
   "outputs": [],
   "source": [
    "# define the cuda devide\n",
    "device = torch.device('cuda' if opt[\"cuda\"] else 'cpu')\n",
    "print(device)"
   ]
  },
  {
   "cell_type": "code",
   "execution_count": null,
   "id": "97591670-2d35-476c-923e-5618d1eb89d1",
   "metadata": {},
   "outputs": [],
   "source": [
    "# Load the dataset and preprocess it \n",
    "aq = pd.read_parquet(\"/home/yannic/master-thesis/data_air/prsa_data.parquet\")\n",
    "aq_prep = pd.concat([aq,pd.get_dummies(aq['station'], prefix='station',dummy_na=False)],axis=1).drop(['station'],axis=1).drop(columns=[\"wind_direction\"])\n",
    "aq_prep.head()"
   ]
  },
  {
   "cell_type": "markdown",
   "id": "b8ebdf1e-391d-4618-af0d-ee5223de8fdf",
   "metadata": {},
   "source": [
    "# DataLoader and Transformer"
   ]
  },
  {
   "cell_type": "markdown",
   "id": "460bc488-504a-4ef3-8dc7-3d0c8e44a863",
   "metadata": {
    "jp-MarkdownHeadingCollapsed": true,
    "tags": []
   },
   "source": [
    "# Functions"
   ]
  },
  {
   "cell_type": "code",
   "execution_count": null,
   "id": "2e76ed9d-d382-4dd2-8f5d-36c3ad1928ec",
   "metadata": {},
   "outputs": [],
   "source": [
    "def cal_performance(pred, gold, trg_pad_idx, smoothing=False):\n",
    "    ''' Apply label smoothing if needed '''\n",
    "\n",
    "    loss = cal_loss(pred, gold, trg_pad_idx, smoothing=smoothing)\n",
    "\n",
    "    pred = pred.max(1)[1]\n",
    "    gold = gold.contiguous().view(-1)\n",
    "    non_pad_mask = gold.ne(trg_pad_idx)\n",
    "    n_correct = pred.eq(gold).masked_select(non_pad_mask).sum().item()\n",
    "    n_word = non_pad_mask.sum().item()\n",
    "\n",
    "    return loss, n_correct, n_word"
   ]
  },
  {
   "cell_type": "code",
   "execution_count": null,
   "id": "c1421521-3849-46d3-ba18-3a98b5205b8d",
   "metadata": {},
   "outputs": [],
   "source": [
    "def cal_loss(pred, gold, trg_pad_idx, smoothing=False):\n",
    "    ''' Calculate cross entropy loss, apply label smoothing if needed. '''\n",
    "\n",
    "    gold = gold.contiguous().view(-1)\n",
    "\n",
    "    if smoothing:\n",
    "        eps = 0.1\n",
    "        n_class = pred.size(1)\n",
    "\n",
    "        one_hot = torch.zeros_like(pred).scatter(1, gold.view(-1, 1), 1)\n",
    "        one_hot = one_hot * (1 - eps) + (1 - one_hot) * eps / (n_class - 1)\n",
    "        log_prb = F.log_softmax(pred, dim=1)\n",
    "\n",
    "        non_pad_mask = gold.ne(trg_pad_idx)\n",
    "        loss = -(one_hot * log_prb).sum(dim=1)\n",
    "        loss = loss.masked_select(non_pad_mask).sum()  # average later\n",
    "    else:\n",
    "        loss = F.cross_entropy(pred, gold, ignore_index=trg_pad_idx, reduction='sum')\n",
    "    return loss"
   ]
  },
  {
   "cell_type": "code",
   "execution_count": null,
   "id": "6ff66755-edab-425d-980d-2a42faee9d51",
   "metadata": {},
   "outputs": [],
   "source": [
    "def patch_src(src, pad_idx):\n",
    "    src = src.transpose(0, 1)\n",
    "    return src"
   ]
  },
  {
   "cell_type": "code",
   "execution_count": null,
   "id": "e648e39d-e536-44dd-972b-d8a533ae7c2a",
   "metadata": {},
   "outputs": [],
   "source": [
    "def patch_trg(trg, pad_idx):\n",
    "    trg = trg.transpose(0, 1)\n",
    "    trg, gold = trg[:, :-1], trg[:, 1:].contiguous().view(-1)\n",
    "    return trg, gold"
   ]
  },
  {
   "cell_type": "code",
   "execution_count": null,
   "id": "e5eedd28-4abb-4486-aad5-83478599a90a",
   "metadata": {},
   "outputs": [],
   "source": [
    "def train_epoch(model, training_data, optimizer, opt, device, smoothing):\n",
    "    ''' Epoch operation in training phase'''\n",
    "\n",
    "    model.train()\n",
    "    total_loss, n_word_total, n_word_correct = 0, 0, 0 \n",
    "\n",
    "    desc = '  - (Training)   '\n",
    "    for batch in tqdm(training_data, mininterval=2, desc=desc, leave=False):\n",
    "        \n",
    "        \n",
    "        # prepare data\n",
    "        src_seq = patch_src(batch.src, opt.src_pad_idx).to(device)\n",
    "        trg_seq, gold = map(lambda x: x.to(device), patch_trg(batch.trg, opt.trg_pad_idx))\n",
    "\n",
    "        # forward\n",
    "        optimizer.zero_grad()\n",
    "        pred = model(src_seq, trg_seq)\n",
    "\n",
    "        # backward and update parameters\n",
    "        loss, n_correct, n_word = cal_performance(\n",
    "            pred, gold, opt.trg_pad_idx, smoothing=smoothing) \n",
    "        loss.backward()\n",
    "        optimizer.step_and_update_lr()\n",
    "\n",
    "        # note keeping\n",
    "        n_word_total += n_word\n",
    "        n_word_correct += n_correct\n",
    "        total_loss += loss.item()\n",
    "\n",
    "    loss_per_word = total_loss/n_word_total\n",
    "    accuracy = n_word_correct/n_word_total\n",
    "    return loss_per_word, accuracy"
   ]
  },
  {
   "cell_type": "code",
   "execution_count": null,
   "id": "b794e8ab-576e-44d6-b3db-1140dc1d19da",
   "metadata": {
    "tags": []
   },
   "outputs": [],
   "source": [
    "def eval_epoch(model, validation_data, device, opt):\n",
    "    ''' Epoch operation in evaluation phase '''\n",
    "\n",
    "    model.eval()\n",
    "    total_loss, n_word_total, n_word_correct = 0, 0, 0\n",
    "\n",
    "    desc = '  - (Validation) '\n",
    "    with torch.no_grad():\n",
    "        for batch in tqdm(validation_data, mininterval=2, desc=desc, leave=False):\n",
    "\n",
    "            # prepare data\n",
    "            src_seq = patch_src(batch.src, opt.src_pad_idx).to(device)\n",
    "            trg_seq, gold = map(lambda x: x.to(device), patch_trg(batch.trg, opt.trg_pad_idx))\n",
    "\n",
    "            # forward\n",
    "            pred = model(src_seq, trg_seq)\n",
    "            loss, n_correct, n_word = cal_performance(\n",
    "                pred, gold, opt.trg_pad_idx, smoothing=False)\n",
    "\n",
    "            # note keeping\n",
    "            n_word_total += n_word\n",
    "            n_word_correct += n_correct\n",
    "            total_loss += loss.item()\n",
    "\n",
    "    loss_per_word = total_loss/n_word_total\n",
    "    accuracy = n_word_correct/n_word_total\n",
    "    return loss_per_word, accuracy"
   ]
  },
  {
   "cell_type": "code",
   "execution_count": null,
   "id": "35c03029-11e2-41e0-bcb0-58073615138c",
   "metadata": {},
   "outputs": [],
   "source": [
    "def train(model, training_data, validation_data, optimizer, device, opt):\n",
    "    ''' Start training '''\n",
    "    \n",
    "    # Use wandb to plot curves, e.g. perplexity, accuracy, learning rate\n",
    "    # TODO: Implement this\n",
    "\n",
    "    log_train_file = os.path.join(opt[\"output_dir\"], 'train.log')\n",
    "    log_valid_file = os.path.join(opt[\"output_dir\"], 'valid.log')\n",
    "\n",
    "    print('[Info] Training performance will be written to file: {} and {}'.format(log_train_file, log_valid_file))\n",
    "\n",
    "    with open(log_train_file, 'w') as log_tf, open(log_valid_file, 'w') as log_vf:\n",
    "        log_tf.write('epoch,loss,ppl,accuracy\\n')\n",
    "        log_vf.write('epoch,loss,ppl,accuracy\\n')\n",
    "\n",
    "    def print_performances(header, accu, start_time, lr):\n",
    "        print('  - {header:12} , accuracy: {accu:3.3f} %, lr: {lr:8.5f}, ''elapse: {elapse:3.3f} min'.format(\n",
    "                  header=f\"({header})\",accu=100*accu, elapse=(time.time()-start_time)/60, lr=lr))\n",
    "\n",
    "    #valid_accus = []\n",
    "    valid_losses = []\n",
    "    for epoch_i in range(opt[\"epoch\"]):\n",
    "        print('[ Epoch', epoch_i, ']')\n",
    "\n",
    "        start = time.time()\n",
    "        train_loss, train_accu = train_epoch(\n",
    "            model, training_data, optimizer, opt, device, smoothing=opt[\"label_smoothing\"])\n",
    "        \n",
    "        \n",
    "        # Current learning rate\n",
    "        lr = optimizer._optimizer.param_groups[0]['lr']\n",
    "        print_performances('Training', train_accu, start, lr)\n",
    "\n",
    "        start = time.time()\n",
    "        valid_loss, valid_accu = eval_epoch(model, validation_data, device, opt)\n",
    "        valid_ppl = math.exp(min(valid_loss, 100))\n",
    "        print_performances('Validation', valid_ppl, valid_accu, start, lr)\n",
    "\n",
    "        valid_losses += [valid_loss]\n",
    "\n",
    "        checkpoint = {'epoch': epoch_i, 'settings': opt, 'model': model.state_dict()}\n",
    "        \n",
    "        if opt[\"save_mode\"] == 'all':\n",
    "            model_name = 'model_accu_{accu:3.3f}.chkpt'.format(accu=100*valid_accu)\n",
    "            torch.save(checkpoint, model_name)\n",
    "        elif opt[\"save_mode\"] == 'best':\n",
    "            model_name = 'model.chkpt'\n",
    "            if valid_loss <= min(valid_losses):\n",
    "                torch.save(checkpoint, os.path.join(opt[\"output_dir\"], model_name))\n",
    "                print('    - [Info] The checkpoint file has been updated.')\n",
    "\n",
    "        with open(log_train_file, 'a') as log_tf, open(log_valid_file, 'a') as log_vf:\n",
    "            log_tf.write('{epoch},{loss: 8.5f},{ppl: 8.5f},{accu:3.3f}\\n'.format(\n",
    "                epoch=epoch_i, loss=train_loss,\n",
    "                ppl=train_ppl, accu=100*train_accu))\n",
    "            log_vf.write('{epoch},{loss: 8.5f},{ppl: 8.5f},{accu:3.3f}\\n'.format(\n",
    "                epoch=epoch_i, loss=valid_loss,\n",
    "                ppl=valid_ppl, accu=100*valid_accu))\n",
    "\n",
    "        if opt[\"use_tb\"]:\n",
    "            tb_writer.add_scalars('ppl', {'train': train_ppl, 'val': valid_ppl}, epoch_i)\n",
    "            tb_writer.add_scalars('accuracy', {'train': train_accu*100, 'val': valid_accu*100}, epoch_i)\n",
    "            tb_writer.add_scalar('learning_rate', lr, epoch_i)\n"
   ]
  },
  {
   "cell_type": "markdown",
   "id": "b5bbfdf5-aa5b-4c8d-b559-c8453355662a",
   "metadata": {},
   "source": [
    "--------------------------------------------------------------------------------------------------------------------------------------------------------------------"
   ]
  },
  {
   "cell_type": "markdown",
   "id": "b6f28272-6f76-4a55-872a-502a30937d06",
   "metadata": {},
   "source": [
    "# New Code "
   ]
  },
  {
   "cell_type": "code",
   "execution_count": null,
   "id": "267aa059-5c23-4a15-9f64-df2988385e6e",
   "metadata": {},
   "outputs": [],
   "source": [
    "def calc_loss():\n",
    "    pass"
   ]
  },
  {
   "cell_type": "code",
   "execution_count": null,
   "id": "f9dd590c-78b5-420b-a2c2-98c64117ca42",
   "metadata": {
    "tags": []
   },
   "outputs": [],
   "source": [
    "def train_epoch(model, train_dataloader, optimizer, opt, device):\n",
    "    \n",
    "    # Set the model into training mode\n",
    "    model.train()\n",
    "    \n",
    "    desc = '  - (Training)   '\n",
    "    for data, labels in tqdm(train_dataloader, mininterval=2, desc=desc, leave=False, ascii=\" ▖▘▝▗▚▞█\"): #ascii=\"░▒█\"):\n",
    "        \n",
    "        #TODO: prepare data\n",
    "        data = data.to(device)\n",
    "        labels = labels.to(device)\n",
    "        \n",
    "        #TODO: forward pass\n",
    "        optimizer.zero_grad()\n",
    "        pred = model(data, labels)\n",
    "        \n",
    "        #TODO: backward pass\n",
    "        print(\"Pred: \",pred.shape)\n",
    "        #print(labels.shape)\n",
    "        #loss = calc_loss(pred, labels)\n",
    "        break\n",
    "        \n",
    "    #data = data.to(\"cpu\")\n",
    "    #labels = labels.to(\"cpu\")\n",
    "    "
   ]
  },
  {
   "cell_type": "code",
   "execution_count": null,
   "id": "59fd4c20-8672-4ee9-bcb7-cd09474fc526",
   "metadata": {},
   "outputs": [],
   "source": [
    "def train(model, train_dataloader, validation_data, optimizer, device, opt):\n",
    "    \n",
    "    # TODO: Implement wandb connection\n",
    "    \n",
    "    # TODO: Implement logging\n",
    "    \n",
    "    def print_performance(header, accu, start_time, lr):\n",
    "        print('  - {header:12} , accuracy: {accu:3.3f} %, lr: {lr:8.5f}, elapse: {elapse:3.3f} min'.format(\n",
    "                  header=f\"({header})\",accu=100*accu, elapse=(time.time()-start_time)/60, lr=lr))\n",
    "    \n",
    "    # TODO: Training Epoch Loop\n",
    "    for epoch_i in range(opt[\"epoch\"]):\n",
    "        print(\"[Epoch: {:>3}]\".format(epoch_i))\n",
    "        \n",
    "        #TODO: write function: train_epoch() \n",
    "        train_epoch(model,train_dataloader,optimizer,opt,device)\n",
    "        \n",
    "        \n",
    "        #TODO: write function: eval_epoch() \n",
    "        #eval_epoch()\n",
    "        break\n",
    "    #model.to(\"cpu\")\n",
    "    \n",
    "    "
   ]
  },
  {
   "cell_type": "code",
   "execution_count": null,
   "id": "5f51464e-7320-4e4b-855e-81f98c06bde3",
   "metadata": {
    "tags": []
   },
   "outputs": [],
   "source": [
    "train(transformer,train_dataloader,train_dataloader,optimizer,device,opt)"
   ]
  },
  {
   "cell_type": "markdown",
   "id": "7f0ca8dd-0fa4-4c0e-8b48-504d02cdd8c1",
   "metadata": {},
   "source": [
    "# DataLoader and Transformer"
   ]
  },
  {
   "cell_type": "code",
   "execution_count": null,
   "id": "ef0c0431-952f-4ebc-8e6b-b7530675cc5d",
   "metadata": {},
   "outputs": [],
   "source": [
    "# Load Dataset\n",
    "opt = get_options()\n",
    "\n",
    "train_split, test_split = train_test_split(aq_prep, test_size=0.10)\n",
    "\n",
    "train_dataset, train_dataloader = prepare_dataloaders(train_split.values, opt[\"batch_size\"],window_size=10)\n",
    "test_dataset, test_dataloader = prepare_dataloaders(test_split.values,  opt[\"batch_size\"],window_size=10)\n",
    "\n",
    "opt[\"src_sequence_size\"] = 27\n",
    "opt[\"trg_sequence_size\"] = 27\n",
    "opt[\"src_pad_idx\"] = 0\n",
    "opt[\"trg_pad_idx\"] = 0\n",
    "\n",
    "# Define Transformer\n",
    "transformer = Transformer(\n",
    "        n_src_sequence=opt[\"src_sequence_size\"],\n",
    "        n_trg_sequence=opt[\"trg_sequence_size\"],\n",
    "        src_pad_idx=opt[\"src_pad_idx\"],\n",
    "        trg_pad_idx=opt[\"trg_pad_idx\"],\n",
    "        trg_emb_prj_weight_sharing=opt[\"proj_share_weight\"],\n",
    "        emb_src_trg_weight_sharing=opt[\"embs_share_weight\"],\n",
    "        d_k=opt[\"d_key\"],\n",
    "        d_v=opt[\"d_value\"],\n",
    "        d_model=opt[\"d_model\"],\n",
    "        d_sequence_vec=opt[\"d_sequence\"],\n",
    "        d_inner=opt[\"d_inner_hidden\"],\n",
    "        n_layers=opt[\"n_layers\"],\n",
    "        n_head=opt[\"n_head\"],\n",
    "        dropout=opt[\"dropout\"],\n",
    "        n_position=opt[\"d_sequence\"],\n",
    "        scale_emb_or_prj=opt[\"scale_emb_or_prj\"]).to(device)\n",
    "\n",
    "# Define Optimizer\n",
    "optimizer = ScheduledOptim(\n",
    "                optim.Adam(transformer.parameters(), betas=(0.9, 0.98), eps=1e-09),\n",
    "                opt[\"lr_mul\"], opt[\"d_model\"], opt[\"n_warmup_steps\"])\n",
    "\n",
    "# Start the training process\n",
    "# train(transformer, train_dataloader, train_dataloader, optimizer, device, opt)"
   ]
  },
  {
   "cell_type": "code",
   "execution_count": null,
   "id": "a6b36796-543c-4a0c-9936-8c247dbcc6be",
   "metadata": {
    "tags": []
   },
   "outputs": [],
   "source": [
    "transformer"
   ]
  },
  {
   "cell_type": "code",
   "execution_count": null,
   "id": "f7569561-3eac-4ded-a146-e98b278fe9fc",
   "metadata": {},
   "outputs": [],
   "source": []
  }
 ],
 "metadata": {
  "kernelspec": {
   "display_name": "jupyter-lab",
   "language": "python",
   "name": "jupyter-lab"
  },
  "language_info": {
   "codemirror_mode": {
    "name": "ipython",
    "version": 3
   },
   "file_extension": ".py",
   "mimetype": "text/x-python",
   "name": "python",
   "nbconvert_exporter": "python",
   "pygments_lexer": "ipython3",
   "version": "3.10.4"
  }
 },
 "nbformat": 4,
 "nbformat_minor": 5
}
