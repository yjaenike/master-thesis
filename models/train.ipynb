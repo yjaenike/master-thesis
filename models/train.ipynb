{
 "cells": [
  {
   "cell_type": "code",
   "execution_count": null,
   "id": "0df38f92-be7a-433e-93bd-a8c51e06e572",
   "metadata": {},
   "outputs": [],
   "source": [
    "%load_ext autoreload"
   ]
  },
  {
   "cell_type": "code",
   "execution_count": null,
   "id": "d62974dd-a418-4011-8ff0-574caa095a52",
   "metadata": {},
   "outputs": [],
   "source": [
    "# Utilities \n",
    "from options.options import is_notebook, get_options, update_options, print_options\n",
    "import argparse\n",
    "import math\n",
    "import time\n",
    "import random\n",
    "import os\n",
    "from tqdm.notebook import tqdm, trange\n",
    "import sys\n",
    "\n",
    "# Data\n",
    "import numpy as np\n",
    "from sklearn.model_selection import train_test_split\n",
    "from data_utils.ts_dataset import TSDataset\n",
    "from data_utils.data_utils import prepare_dataloaders\n",
    "import pandas as pd\n",
    "\n",
    "from preprocessor.preprocessor import PreprocessingPipeline\n",
    "\n",
    "# Training Utils\n",
    "from train_utils.train_utils import *\n",
    "import wandb\n",
    "\n",
    "# Torch\n",
    "import torch\n",
    "import torch.nn as nn\n",
    "import torch.nn.functional as F\n",
    "import torch.optim as optim\n",
    "from torch.utils.data import DataLoader\n",
    "\n",
    "# Transformer\n",
    "from tstransformer.Models import Transformer\n",
    "from tstransformer.Optim import ScheduledOptim\n",
    "\n",
    "%autoreload 2"
   ]
  },
  {
   "cell_type": "code",
   "execution_count": null,
   "id": "8fa37698-c874-4c10-993c-f9c657d48bf3",
   "metadata": {},
   "outputs": [],
   "source": [
    "# Helper function to determin GPU usage\n",
    "def get_gpu_memory(name = \"GPU Memory\", verbose = True):\n",
    "    import nvidia_smi\n",
    "    nvidia_smi.nvmlInit()\n",
    "\n",
    "    \n",
    "    handle = nvidia_smi.nvmlDeviceGetHandleByIndex(0)\n",
    "    info = nvidia_smi.nvmlDeviceGetMemoryInfo(handle)\n",
    "    \n",
    "    memory = {\"total\":  info.total / (1024 * 1024), \"free\": info.free / (1024 * 1024), \"used\": info.used / (1024 * 1024)}\n",
    "    \n",
    "    if verbose:\n",
    "        print(\"#### \", name , \"####\")\n",
    "        print(\"Total memory:\", memory[\"total\"], \"MB\")\n",
    "        print(\"Free memory: \", memory[\"free\"], \"MB\")\n",
    "        print(\"Used memory: \", memory[\"used\"], \"MB\")\n",
    "        print(\"\")\n",
    "    \n",
    "    nvidia_smi.nvmlShutdown()\n",
    "    \n",
    "    return memory\n",
    "\n",
    "#_=get_gpu_memory(\"Before Empty Cache\")\n",
    "torch.cuda.empty_cache()\n",
    "_=get_gpu_memory(\"After Empty Cache\")"
   ]
  },
  {
   "cell_type": "code",
   "execution_count": null,
   "id": "5e4e8a0b-3b3d-4156-a492-9ee151888fa5",
   "metadata": {},
   "outputs": [],
   "source": [
    "opt = get_options()\n",
    "print_options(opt)"
   ]
  },
  {
   "cell_type": "markdown",
   "id": "d26cdbbc-195c-4989-85a8-18f4dbb69163",
   "metadata": {},
   "source": [
    "# Data Preprocessing"
   ]
  },
  {
   "cell_type": "code",
   "execution_count": null,
   "id": "97591670-2d35-476c-923e-5618d1eb89d1",
   "metadata": {},
   "outputs": [],
   "source": [
    "# Load the dataset and preprocess it \n",
    "aq = pd.read_parquet(\"/home/yannic/master-thesis/data_air/prsa_data.parquet\")\n",
    "\n",
    "# With Stations\n",
    "#aq_prep = pd.concat([aq,pd.get_dummies(aq['station'], prefix='station',dummy_na=False)],axis=1).drop(['station'],axis=1).drop(columns=[\"wind_direction\"])\n",
    "\n",
    "# Without Stations\n",
    "aq_prepared = aq.drop(['station'],axis=1).drop(columns=[\"wind_direction\"]).iloc[:,4:]\n",
    "\n",
    "#aq_prepared = aq_prepared.fillna(0)#[:300]"
   ]
  },
  {
   "cell_type": "code",
   "execution_count": null,
   "id": "1f1948ae-34a6-44e7-aa55-baf4b5d92e5f",
   "metadata": {},
   "outputs": [],
   "source": [
    "fill_type = 'ema_fast'           # OPTIONS: 'nan', 'median', 'locf', 'nocb', 'ema', 'ema_fast'\n",
    "clip_quantile_value = 0.99   # OPTIONS: range(0.0 , 1.0)\n",
    "\n",
    "preprocessing_pipe = PreprocessingPipeline(fill_type, clip_quantile_value)\n",
    "aq_preprocessed = preprocessing_pipe.fit_transform(aq_prepared)\n",
    "aq_preprocessed.shape"
   ]
  },
  {
   "cell_type": "code",
   "execution_count": null,
   "id": "9e50e434-e359-48b2-8880-5ee2c6faf74b",
   "metadata": {},
   "outputs": [],
   "source": [
    "aq_preprocessed = aq_preprocessed.iloc[:10000,:]\n",
    "print(\"Nans : \",aq_preprocessed.isnull().sum().sum())\n",
    "print(\"Shape: \",aq_preprocessed.shape)\n",
    "aq_preprocessed.head()"
   ]
  },
  {
   "cell_type": "markdown",
   "id": "7f0ca8dd-0fa4-4c0e-8b48-504d02cdd8c1",
   "metadata": {
    "tags": []
   },
   "source": [
    "# DataLoader and Transformer"
   ]
  },
  {
   "cell_type": "code",
   "execution_count": null,
   "id": "ee8bb160-9412-4999-8851-465b3c783b4e",
   "metadata": {},
   "outputs": [],
   "source": [
    "def validate_epoch(model, validation_dataloader, device, opt):\n",
    "    model.eval()\n",
    "    val_loss = 0\n",
    "\n",
    "    with torch.no_grad():\n",
    "        for data, target in validation_dataloader:\n",
    "                \n",
    "            data = data.to(device)\n",
    "            target = target.to(device)\n",
    "            decoder_input = data[:,-1,:].unsqueeze(dim=1)\n",
    "            \n",
    "            pred = model(data, decoder_input)\n",
    "            \n",
    "            loss = calc_loss(pred, target, opt[\"loss_func\"])\n",
    "            val_loss += loss.item()\n",
    "            \n",
    "    \n",
    "    return val_loss\n",
    "    "
   ]
  },
  {
   "cell_type": "code",
   "execution_count": null,
   "id": "d3ba3ef3-4ee2-4d22-9aa7-dbfabc71b039",
   "metadata": {},
   "outputs": [],
   "source": [
    "def train(model, train_dataloader, validation_datalaoder, optimizer, device, opt):\n",
    "    \n",
    "    if opt[\"use_wandb\"]:\n",
    "        wandb.init(project=\"masters-thesis\", entity=\"yannicj\", config=opt)\n",
    "        #wandb.config = opt\n",
    "    \n",
    "    train_losses = []\n",
    "    eval_losses = []\n",
    "\n",
    "    for epoch in range(opt[\"epoch\"]):\n",
    "        \n",
    "        # Initiate losses list for epoch\n",
    "        train_loss = 0\n",
    "        \n",
    "        with tqdm(train_dataloader, unit=\"batch\", mininterval=1, leave=True) as tepoch:\n",
    "            tepoch.set_description(f\"Epoch {epoch}\")\n",
    "           \n",
    "            # Train epoch\n",
    "            for data, target in train_dataloader:\n",
    "                tepoch.update(1)\n",
    "                # Prepare data\n",
    "                data = data.to(device)\n",
    "                target = target.to(device)\n",
    "                decoder_input = data[:,-1,:].unsqueeze(dim=1)\n",
    "                \n",
    "                # Trainig data\n",
    "                optimizer.zero_grad()\n",
    "                pred = model(data, decoder_input)\n",
    "\n",
    "                loss = calc_loss(pred, target, opt[\"loss_func\"])\n",
    "                train_loss += loss.item()\n",
    "\n",
    "                loss.backward()\n",
    "                optimizer.step_and_update_lr()\n",
    "                \n",
    "                tqdm_loss = \"{:10.4f}\".format(train_loss)\n",
    "                tepoch.set_postfix(train_loss=tqdm_loss)\n",
    "            \n",
    "            # Validate epoch\n",
    "            val_loss = validate_epoch(model, validation_datalaoder, device, opt)\n",
    "            \n",
    "            # Update Progress Bar\n",
    "            \n",
    "            tqdm_train_loss = \"{:10.4f}\".format(train_loss)\n",
    "            tqdm_val_losses = \"{:10.4f}\".format(val_loss)\n",
    "            \n",
    "            tepoch.set_postfix({\"loss\": tqdm_train_loss, \"val_loss\": tqdm_val_losses})\n",
    "            tepoch.close()\n",
    "            \n",
    "            if opt[\"use_wandb\"]:\n",
    "                wandb.log({\"train_loss\": train_loss, \"val_loss\": val_loss})\n",
    "                wandb.watch(model)\n",
    "    \n",
    "    if opt[\"use_wandb\"]:\n",
    "        wandb.finish()"
   ]
  },
  {
   "cell_type": "code",
   "execution_count": null,
   "id": "ef0c0431-952f-4ebc-8e6b-b7530675cc5d",
   "metadata": {
    "tags": []
   },
   "outputs": [],
   "source": [
    "# define the cuda devide\n",
    "device = torch.device('cuda' if opt[\"cuda\"] else 'cpu')\n",
    "\n",
    "# Load options\n",
    "opt = get_options()\n",
    "\n",
    "# create train, eval, test split\n",
    "train_split, test_split = train_test_split(aq_preprocessed, test_size=0.15, shuffle=False)\n",
    "train_split, eval_split = train_test_split(train_split, test_size=0.18, shuffle=False)\n",
    "\n",
    "# Training dataset, Evaluation dataset in each epoch, Testing dataset after training\n",
    "train_dataset, train_dataloader = prepare_dataloaders(train_split.values, opt[\"batch_size\"],window_size=opt[\"window_size\"], device=device)\n",
    "eval_dataset, eval_dataloader = prepare_dataloaders(eval_split.values,  opt[\"batch_size\"],window_size=opt[\"window_size\"], device=device)\n",
    "test_dataset, test_dataloader = prepare_dataloaders(test_split.values,  opt[\"batch_size\"],window_size=opt[\"window_size\"], device=device)\n",
    "\n",
    "# Define Transformer\n",
    "transformer = Transformer(\n",
    "        n_src_sequence=opt[\"src_sequence_size\"],\n",
    "        n_trg_sequence=opt[\"trg_sequence_size\"],\n",
    "        src_pad_idx=opt[\"src_pad_idx\"],\n",
    "        trg_pad_idx=opt[\"trg_pad_idx\"],\n",
    "        trg_emb_prj_weight_sharing=opt[\"proj_share_weight\"],\n",
    "        emb_src_trg_weight_sharing=opt[\"embs_share_weight\"],\n",
    "        d_k=opt[\"d_key\"],\n",
    "        d_v=opt[\"d_value\"],\n",
    "        d_model=opt[\"d_model\"],\n",
    "        d_sequence_vec=opt[\"d_sequence\"],\n",
    "        d_inner=opt[\"d_inner_hidden\"],\n",
    "        n_layers=opt[\"n_layers\"],\n",
    "        n_head=opt[\"n_head\"],\n",
    "        dropout=opt[\"dropout\"],\n",
    "        n_position=opt[\"d_sequence\"],\n",
    "        scale_emb_or_prj=opt[\"scale_emb_or_prj\"]).to(device)\n",
    "\n",
    "# Define Optimizer\n",
    "optimizer = ScheduledOptim(\n",
    "                optim.Adam(transformer.parameters(), betas=(0.9, 0.98), eps=1e-09),\n",
    "                opt[\"lr_mul\"], opt[\"d_model\"], opt[\"n_warmup_steps\"])\n",
    "\n",
    "# print training settings\n",
    "print_training_settings(device, train_split, eval_split, test_split, opt[\"loss_func\"])\n",
    "\n",
    "# Start the training process\n",
    "#train(transformer, train_dataloader, train_dataloader, optimizer, device, opt)"
   ]
  },
  {
   "cell_type": "code",
   "execution_count": null,
   "id": "5f51464e-7320-4e4b-855e-81f98c06bde3",
   "metadata": {
    "tags": []
   },
   "outputs": [],
   "source": [
    "train(transformer,train_dataloader,eval_dataloader,optimizer,device,opt)"
   ]
  },
  {
   "cell_type": "markdown",
   "id": "54ed5b4d-cf1e-46db-b9c6-b3c7268533b8",
   "metadata": {},
   "source": [
    "## Make Prediction"
   ]
  },
  {
   "cell_type": "code",
   "execution_count": null,
   "id": "d1904ae1-2d05-43ad-a54a-5be59e748f81",
   "metadata": {},
   "outputs": [],
   "source": [
    "\n",
    "data = data.to(device)\n",
    "target = target.to(device)\n",
    "decoder_input = data[:,-1,:].unsqueeze(dim=1)"
   ]
  },
  {
   "cell_type": "markdown",
   "id": "460bc488-504a-4ef3-8dc7-3d0c8e44a863",
   "metadata": {
    "jp-MarkdownHeadingCollapsed": true,
    "tags": []
   },
   "source": [
    "# Old Functions"
   ]
  },
  {
   "cell_type": "code",
   "execution_count": null,
   "id": "e5eedd28-4abb-4486-aad5-83478599a90a",
   "metadata": {
    "tags": []
   },
   "outputs": [],
   "source": [
    "def train_epoch(model, training_data, optimizer, opt, device, smoothing):\n",
    "    ''' Epoch operation in training phase'''\n",
    "\n",
    "    model.train()\n",
    "    total_loss, n_word_total, n_word_correct = 0, 0, 0 \n",
    "\n",
    "    desc = '  - (Training)   '\n",
    "    for batch in tqdm(training_data, mininterval=2, desc=desc, leave=False):\n",
    "        \n",
    "        \n",
    "        # prepare data\n",
    "        src_seq = patch_src(batch.src, opt.src_pad_idx).to(device)\n",
    "        trg_seq, gold = map(lambda x: x.to(device), patch_trg(batch.trg, opt.trg_pad_idx))\n",
    "\n",
    "        # forward\n",
    "        optimizer.zero_grad()\n",
    "        pred = model(src_seq, trg_seq)\n",
    "\n",
    "        # backward and update parameters\n",
    "        loss, n_correct, n_word = cal_performance(\n",
    "            pred, gold, opt.trg_pad_idx, smoothing=smoothing) \n",
    "        loss.backward()\n",
    "        optimizer.step_and_update_lr()\n",
    "\n",
    "        # note keeping\n",
    "        n_word_total += n_word\n",
    "        n_word_correct += n_correct\n",
    "        total_loss += loss.item()\n",
    "\n",
    "    loss_per_word = total_loss/n_word_total\n",
    "    accuracy = n_word_correct/n_word_total\n",
    "    return loss_per_word, accuracy"
   ]
  },
  {
   "cell_type": "code",
   "execution_count": null,
   "id": "b794e8ab-576e-44d6-b3db-1140dc1d19da",
   "metadata": {
    "tags": []
   },
   "outputs": [],
   "source": [
    "def eval_epoch(model, validation_data, device, opt):\n",
    "    ''' Epoch operation in evaluation phase '''\n",
    "\n",
    "    model.eval()\n",
    "    total_loss, n_word_total, n_word_correct = 0, 0, 0\n",
    "\n",
    "    desc = '  - (Validation) '\n",
    "    with torch.no_grad():\n",
    "        for batch in tqdm(validation_data, mininterval=2, desc=desc, leave=False):\n",
    "\n",
    "            # prepare data\n",
    "            src_seq = patch_src(batch.src, opt.src_pad_idx).to(device)\n",
    "            trg_seq, gold = map(lambda x: x.to(device), patch_trg(batch.trg, opt.trg_pad_idx))\n",
    "\n",
    "            # forward\n",
    "            pred = model(src_seq, trg_seq)\n",
    "            loss, n_correct, n_word = cal_performance(\n",
    "                pred, gold, opt.trg_pad_idx, smoothing=False)\n",
    "\n",
    "            # note keeping\n",
    "            n_word_total += n_word\n",
    "            n_word_correct += n_correct\n",
    "            total_loss += loss.item()\n",
    "\n",
    "    loss_per_word = total_loss/n_word_total\n",
    "    accuracy = n_word_correct/n_word_total\n",
    "    return loss_per_word, accuracy"
   ]
  },
  {
   "cell_type": "code",
   "execution_count": null,
   "id": "35c03029-11e2-41e0-bcb0-58073615138c",
   "metadata": {
    "jupyter": {
     "source_hidden": true
    },
    "tags": []
   },
   "outputs": [],
   "source": [
    "def train(model, training_data, validation_data, optimizer, device, opt):\n",
    "    ''' Start training '''\n",
    "    \n",
    "    # Use wandb to plot curves, e.g. perplexity, accuracy, learning rate\n",
    "    # TODO: Implement this\n",
    "\n",
    "    log_train_file = os.path.join(opt[\"output_dir\"], 'train.log')\n",
    "    log_valid_file = os.path.join(opt[\"output_dir\"], 'valid.log')\n",
    "\n",
    "    print('[Info] Training performance will be written to file: {} and {}'.format(log_train_file, log_valid_file))\n",
    "\n",
    "    with open(log_train_file, 'w') as log_tf, open(log_valid_file, 'w') as log_vf:\n",
    "        log_tf.write('epoch,loss,ppl,accuracy\\n')\n",
    "        log_vf.write('epoch,loss,ppl,accuracy\\n')\n",
    "\n",
    "    def print_performances(header, accu, start_time, lr):\n",
    "        print('  - {header:12} , accuracy: {accu:3.3f} %, lr: {lr:8.5f}, ''elapse: {elapse:3.3f} min'.format(\n",
    "                  header=f\"({header})\",accu=100*accu, elapse=(time.time()-start_time)/60, lr=lr))\n",
    "\n",
    "    #valid_accus = []\n",
    "    valid_losses = []\n",
    "    for epoch_i in range(opt[\"epoch\"]):\n",
    "        print('[ Epoch', epoch_i, ']')\n",
    "\n",
    "        start = time.time()\n",
    "        train_loss, train_accu = train_epoch(\n",
    "            model, training_data, optimizer, opt, device, smoothing=opt[\"label_smoothing\"])\n",
    "        \n",
    "        \n",
    "        # Current learning rate\n",
    "        lr = optimizer._optimizer.param_groups[0]['lr']\n",
    "        print_performances('Training', train_accu, start, lr)\n",
    "\n",
    "        start = time.time()\n",
    "        valid_loss, valid_accu = eval_epoch(model, validation_data, device, opt)\n",
    "        valid_ppl = math.exp(min(valid_loss, 100))\n",
    "        print_performances('Validation', valid_ppl, valid_accu, start, lr)\n",
    "\n",
    "        valid_losses += [valid_loss]\n",
    "\n",
    "        checkpoint = {'epoch': epoch_i, 'settings': opt, 'model': model.state_dict()}\n",
    "        \n",
    "        if opt[\"save_mode\"] == 'all':\n",
    "            model_name = 'model_accu_{accu:3.3f}.chkpt'.format(accu=100*valid_accu)\n",
    "            torch.save(checkpoint, model_name)\n",
    "        elif opt[\"save_mode\"] == 'best':\n",
    "            model_name = 'model.chkpt'\n",
    "            if valid_loss <= min(valid_losses):\n",
    "                torch.save(checkpoint, os.path.join(opt[\"output_dir\"], model_name))\n",
    "                print('    - [Info] The checkpoint file has been updated.')\n",
    "\n",
    "        with open(log_train_file, 'a') as log_tf, open(log_valid_file, 'a') as log_vf:\n",
    "            log_tf.write('{epoch},{loss: 8.5f},{ppl: 8.5f},{accu:3.3f}\\n'.format(\n",
    "                epoch=epoch_i, loss=train_loss,\n",
    "                ppl=train_ppl, accu=100*train_accu))\n",
    "            log_vf.write('{epoch},{loss: 8.5f},{ppl: 8.5f},{accu:3.3f}\\n'.format(\n",
    "                epoch=epoch_i, loss=valid_loss,\n",
    "                ppl=valid_ppl, accu=100*valid_accu))\n",
    "\n",
    "        if opt[\"use_tb\"]:\n",
    "            tb_writer.add_scalars('ppl', {'train': train_ppl, 'val': valid_ppl}, epoch_i)\n",
    "            tb_writer.add_scalars('accuracy', {'train': train_accu*100, 'val': valid_accu*100}, epoch_i)\n",
    "            tb_writer.add_scalar('learning_rate', lr, epoch_i)\n"
   ]
  },
  {
   "cell_type": "markdown",
   "id": "b5bbfdf5-aa5b-4c8d-b559-c8453355662a",
   "metadata": {
    "tags": []
   },
   "source": [
    "--------------------------------------------------------------------------------------------------------------------------------------------------------------------"
   ]
  },
  {
   "cell_type": "markdown",
   "id": "f2be5f49-3878-4a99-9eb6-ca2cee25d16c",
   "metadata": {
    "jp-MarkdownHeadingCollapsed": true,
    "tags": []
   },
   "source": [
    "# Testing and Stuff"
   ]
  },
  {
   "cell_type": "code",
   "execution_count": null,
   "id": "48184761-8911-44c4-9274-81ea3719711f",
   "metadata": {},
   "outputs": [],
   "source": [
    "train_dataset, train_dataloader = prepare_dataloaders(aq_preprocessed.values, opt[\"batch_size\"],window_size=10)"
   ]
  },
  {
   "cell_type": "code",
   "execution_count": null,
   "id": "456b0d4b-69cc-4810-8507-64b4cd67fe05",
   "metadata": {},
   "outputs": [],
   "source": [
    "i = 1\n",
    "j = 0\n",
    "for data, label in train_dataloader:\n",
    "    x = data[0]\n",
    "    y = label[0]\n",
    "    if j==i:\n",
    "        break\n",
    "    j+=1\n",
    "\n",
    "x_df = pd.DataFrame(x.numpy(), columns=['pm25', 'pm10', 'so2', 'no2', 'co', 'o3', 'temperatur', 'pressure',\n",
    "       'dew_point', 'rain', 'wind_speed'])\n",
    "\n",
    "y_df = pd.DataFrame(y.numpy(), columns=['pm25', 'pm10', 'so2', 'no2', 'co', 'o3', 'temperatur', 'pressure',\n",
    "       'dew_point', 'rain', 'wind_speed'])\n",
    "\n",
    "sample = pd.concat([x_df, y_df]).reset_index().drop(columns=[\"index\"]).round(2).astype(str)\n",
    "real = aq_preprocessed[i+0:i+11].reset_index().drop(columns=[\"index\"]).round(2).astype(str)"
   ]
  },
  {
   "cell_type": "code",
   "execution_count": null,
   "id": "978c851e-0d51-4c5f-9d02-235170c5c3ad",
   "metadata": {},
   "outputs": [],
   "source": [
    "sample"
   ]
  },
  {
   "cell_type": "code",
   "execution_count": null,
   "id": "b47ec66e-e588-4750-8e15-aa6ceecf2603",
   "metadata": {},
   "outputs": [],
   "source": [
    "real"
   ]
  },
  {
   "cell_type": "code",
   "execution_count": null,
   "id": "1d9ab5f3-b8f0-45f3-9766-06991c32709f",
   "metadata": {},
   "outputs": [],
   "source": [
    "(sample == real).any().any()"
   ]
  },
  {
   "cell_type": "code",
   "execution_count": null,
   "id": "1306c0da-f69f-4824-93dc-5a6b1f128fea",
   "metadata": {},
   "outputs": [],
   "source": [
    "pd.DataFrame(train_dataset[3][0].numpy(), columns=['pm25', 'pm10', 'so2', 'no2', 'co', 'o3', 'temperatur', 'pressure',\n",
    "       'dew_point', 'rain', 'wind_speed']).round(2)"
   ]
  },
  {
   "cell_type": "code",
   "execution_count": null,
   "id": "c12f0c08-1251-4f42-879c-1820d924542f",
   "metadata": {},
   "outputs": [],
   "source": []
  }
 ],
 "metadata": {
  "kernelspec": {
   "display_name": "jupyter-lab",
   "language": "python",
   "name": "jupyter-lab"
  },
  "language_info": {
   "codemirror_mode": {
    "name": "ipython",
    "version": 3
   },
   "file_extension": ".py",
   "mimetype": "text/x-python",
   "name": "python",
   "nbconvert_exporter": "python",
   "pygments_lexer": "ipython3",
   "version": "3.10.4"
  }
 },
 "nbformat": 4,
 "nbformat_minor": 5
}
