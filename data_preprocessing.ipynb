{
 "cells": [
  {
   "cell_type": "markdown",
   "id": "558412a9-5ca5-46ef-95fb-fdefe6aa52a2",
   "metadata": {},
   "source": [
    "# Data Preprocessing\n",
    "\n",
    "- Build a data processing pipeline that takes the raw data and transforms them into a NN trainable dataset\n"
   ]
  },
  {
   "cell_type": "markdown",
   "id": "9d382f48-fb89-442b-9803-d1dad8b8f2bd",
   "metadata": {
    "tags": []
   },
   "source": [
    "## Imports"
   ]
  },
  {
   "cell_type": "code",
   "execution_count": 3,
   "id": "4aaf6e49-a891-4cb6-8eb5-9ca55e7e9f50",
   "metadata": {},
   "outputs": [],
   "source": [
    "from IPython.display import Javascript\n",
    "import ipywidgets as widgets\n",
    "\n",
    "# Data\n",
    "import numpy as np\n",
    "import pandas as pd\n",
    "\n",
    "# Plotting\n",
    "import seaborn as sns\n",
    "import matplotlib.pyplot as plt"
   ]
  },
  {
   "cell_type": "markdown",
   "id": "b38b82ac-5d81-4562-b750-bc06c159f7e4",
   "metadata": {},
   "source": [
    "# Preprocessing - Part 1"
   ]
  },
  {
   "cell_type": "code",
   "execution_count": 4,
   "id": "4538c24f-20af-414d-8c43-6d2c644a9445",
   "metadata": {},
   "outputs": [],
   "source": [
    "class PreprocessingPipeline():\n",
    "    '''\n",
    "    -> Outlier handling\n",
    "    -> Missing-value handling\n",
    "    -> Power Transform (Cox Box, Yao Johnsen)\n",
    "    -> Categorical data (One hot encoding, Label Encoding)\n",
    "    '''\n",
    "    \n",
    "    def __init__ (self, df, fill_type) -> None:\n",
    "        self.fill_type = fill_type\n",
    "        self.feature_names = \n",
    "        \n",
    "    def fit():\n",
    "        pass\n",
    "    \n",
    "    def transform():\n",
    "        pass\n",
    "    \n",
    "    def batch_transform():\n",
    "        pass\n",
    "    \n",
    "    # Outlier handling\n",
    "    def __handle_outliers():\n",
    "        pass\n",
    "    \n",
    "    def __detect_outliers_iqr():\n",
    "        pass\n",
    "    \n",
    "    # Missing value handling\n",
    "    def __fill_missing_values():\n",
    "        pass\n",
    "    \n",
    "    # Power transformations\n",
    "    def __power_transform():\n",
    "        pass\n",
    "    \n",
    "    # Encoding of the non-numeric variables\n",
    "    def __encode_variables():\n",
    "        pass\n",
    "    "
   ]
  },
  {
   "cell_type": "code",
   "execution_count": null,
   "id": "77340f6c-637c-4a4e-95ab-88c818c30d31",
   "metadata": {},
   "outputs": [],
   "source": []
  },
  {
   "cell_type": "markdown",
   "id": "abe591f9-40bc-49c2-9d2d-a394df341444",
   "metadata": {},
   "source": [
    "# Preprocessing - Part 2"
   ]
  },
  {
   "cell_type": "code",
   "execution_count": null,
   "id": "9220a5ca-3494-432b-80a0-b4183d8e7acd",
   "metadata": {},
   "outputs": [],
   "source": [
    "class FeatureScaling():"
   ]
  }
 ],
 "metadata": {
  "kernelspec": {
   "display_name": "Python 3 (ipykernel)",
   "language": "python",
   "name": "python3"
  },
  "language_info": {
   "codemirror_mode": {
    "name": "ipython",
    "version": 3
   },
   "file_extension": ".py",
   "mimetype": "text/x-python",
   "name": "python",
   "nbconvert_exporter": "python",
   "pygments_lexer": "ipython3",
   "version": "3.8.10"
  }
 },
 "nbformat": 4,
 "nbformat_minor": 5
}
