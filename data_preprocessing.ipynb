{
 "cells": [
  {
   "cell_type": "markdown",
   "id": "558412a9-5ca5-46ef-95fb-fdefe6aa52a2",
   "metadata": {},
   "source": [
    "# Data Preprocessing\n",
    "\n",
    "- Build a data processing pipeline that takes the raw data and transforms them into a NN trainable dataset\n",
    "\n",
    "* Transform Data from row values to coulmn based dataframe\n",
    "* Clean Column names\n",
    "* ..."
   ]
  },
  {
   "cell_type": "markdown",
   "id": "9d382f48-fb89-442b-9803-d1dad8b8f2bd",
   "metadata": {
    "tags": []
   },
   "source": [
    "## Imports"
   ]
  },
  {
   "cell_type": "code",
   "execution_count": 5,
   "id": "89ba343a-a463-4885-a373-7fb0d6858765",
   "metadata": {},
   "outputs": [],
   "source": [
    "# data processing\n",
    "import numpy as np\n",
    "import pandas as pd\n",
    "\n",
    "# data viz\n",
    "import matplotlib.pyplot as plt\n",
    "import seaborn as sn \n",
    "\n",
    "# gui\n",
    "from tqdm.auto import tqdm\n",
    "tqdm.pandas()\n",
    "\n",
    "\n",
    "#funtions\n",
    "\n",
    "def doing(string):\n",
    "    print(string+\"...\", end=\"\")\n",
    "\n",
    "def done():\n",
    "    print(\"✅\")\n",
    "    #print(\" \\033[91m\\033[1mDone.\\033[0m\")\n",
    "    \n",
    "def choose_target_period(patition,target_name=\"ICP_Vital\", mins_before_first_icp = 1440, min_icp_val=-10, max_icp_val=105):\n",
    "    '''\n",
    "    1. Filter ICP outliers taht are outside the 0.999 quantile (-10,105)\n",
    "    2. Drop steps after last ICP measurement\n",
    "    3. Shift relative time to start with 0 after removing rows\n",
    "    \n",
    "        Parameters:\n",
    "                patition (DataFrame): The Dataframe we want to transform\n",
    "                target_name(str): The column name of the ICP measurement value\n",
    "                mins_before_first_icp (int): The number of minutes before the first ICP we want to capture\n",
    "                min_icp_val (int): The minimum icp value that will be kept in the dataframe\n",
    "                max_icp_val (int): The maximum icp value that will be kept in the dataframe                \n",
    "                \n",
    "        Return:\n",
    "            patition (DataFrame): The transformed dataframe that was passed to the function\n",
    "    \n",
    "    '''\n",
    "    # DF with only rows that have ICP as \"Maßnahme\"to check when the first and last ICP happened\n",
    "    target_rows = patition[patition[\"Maßnahme\"] == target_name]\n",
    "    \n",
    "    # create a mask that is False where values are outside specified range\n",
    "    outlier_mask = (target_rows[\"Wert\"] >= min_icp_val) & (target_rows[\"Wert\"] <= min_icp_val)\n",
    "    target_rows = target_rows[outlier_mask]\n",
    "    \n",
    "    \n",
    "    # Check is patition has steps\n",
    "    if len(target_rows) == 0:\n",
    "        return patition.iloc[0:0]\n",
    "    \n",
    "    # kick out targets beyond thresholds\n",
    "    min_time_threashold = min(target_rows[\"rel_time\"]) # since target steps only has ICP measurements, this is the first ICP measurement for the patient\n",
    "    min_time_threashold = min_time_threashold - mins_before_first_icp # But we want to have 1440 minutes before the first measurement, so we need to substract it\n",
    "    max_time_threashold = max(target_rows[\"rel_time\"]) # We want to remove rows that occure after the last ICP\n",
    "    \n",
    "    # kick out (basically set to NaN) measurements beyond interesting region\n",
    "    patition = patition[patition[\"rel_time\"] >= min_time_threashold]\n",
    "    patition = patition[patition[\"rel_time\"] <= max_time_threashold]\n",
    "    \n",
    "    # subtract the minimum time value from al values, to shift the first row to have a rel_time of 0\n",
    "    patition[\"rel_time\"] -= min(patition[\"rel_time\"])\n",
    "\n",
    "\n",
    "    return patition\n",
    "\n",
    "def rename_nbd(name):\n",
    "    '''\n",
    "    merge \"NBD\" (non-invasive ways of measuring blood pressure) with invasive ways as they measure the same thing\n",
    "    \n",
    "        Parameters:\n",
    "            name(string): the name of the measurement we want to rename\n",
    "        Return:\n",
    "            name(string): the name after we have altered it to the generel name\n",
    "    '''\n",
    "    if \"syst\" in name:\n",
    "        name = \"syst_Vital\"\n",
    "    elif \"diast\" in name:\n",
    "        name = \"diast_Vital\"\n",
    "    elif \"mittl\" in name:\n",
    "        name = \"mittl_Vital\"\n",
    "        \n",
    "    return name"
   ]
  },
  {
   "cell_type": "markdown",
   "id": "b74fa061-ffba-4f48-ad46-7212e54d50bf",
   "metadata": {},
   "source": [
    "# Load the dataset \n",
    "doing(\"Loading Dataset\")\n",
    "datenbank_werte_df = pd.read_csv(\"../icp_prediction/data/Datenbank_Werte.csv\")\n",
    "done()## Create ICP data set \n",
    "Can be skipped if file already exists."
   ]
  },
  {
   "cell_type": "code",
   "execution_count": 7,
   "id": "f6943444-292c-4fc1-8a28-65523828ded9",
   "metadata": {},
   "outputs": [
    {
     "name": "stdout",
     "output_type": "stream",
     "text": [
      "Loading Dataset..."
     ]
    },
    {
     "name": "stderr",
     "output_type": "stream",
     "text": [
      "/tmp/ipykernel_800928/576936030.py:3: DtypeWarning: Columns (0) have mixed types. Specify dtype option on import or set low_memory=False.\n",
      "  datenbank_werte_df = pd.read_csv(\"../master-thesis/data/Datenbank_Werte.csv\")\n"
     ]
    },
    {
     "name": "stdout",
     "output_type": "stream",
     "text": [
      "✅\n"
     ]
    }
   ],
   "source": [
    "# Load the dataset \n",
    "doing(\"Loading Dataset\")\n",
    "datenbank_werte_df = pd.read_csv(\"../master-thesis/data/Datenbank_Werte.csv\")\n",
    "done()"
   ]
  },
  {
   "cell_type": "code",
   "execution_count": 8,
   "id": "046e71d9-b679-4e2e-b86c-530f5e915dba",
   "metadata": {},
   "outputs": [
    {
     "data": {
      "text/html": [
       "<div>\n",
       "<style scoped>\n",
       "    .dataframe tbody tr th:only-of-type {\n",
       "        vertical-align: middle;\n",
       "    }\n",
       "\n",
       "    .dataframe tbody tr th {\n",
       "        vertical-align: top;\n",
       "    }\n",
       "\n",
       "    .dataframe thead th {\n",
       "        text-align: right;\n",
       "    }\n",
       "</style>\n",
       "<table border=\"1\" class=\"dataframe\">\n",
       "  <thead>\n",
       "    <tr style=\"text-align: right;\">\n",
       "      <th></th>\n",
       "      <th>Pat_ID</th>\n",
       "      <th>ID</th>\n",
       "      <th>Maßnahme</th>\n",
       "      <th>Maßnahme_norm</th>\n",
       "      <th>rel_time</th>\n",
       "      <th>Wert</th>\n",
       "      <th>DB</th>\n",
       "    </tr>\n",
       "  </thead>\n",
       "  <tbody>\n",
       "    <tr>\n",
       "      <th>0</th>\n",
       "      <td>123456798</td>\n",
       "      <td>BGA</td>\n",
       "      <td>Glu</td>\n",
       "      <td>Glu</td>\n",
       "      <td>-2880.0</td>\n",
       "      <td>100.00</td>\n",
       "      <td>UKE</td>\n",
       "    </tr>\n",
       "    <tr>\n",
       "      <th>1</th>\n",
       "      <td>474097135</td>\n",
       "      <td>BGA</td>\n",
       "      <td>Ca</td>\n",
       "      <td>Ca</td>\n",
       "      <td>419.0</td>\n",
       "      <td>1.23</td>\n",
       "      <td>UKE</td>\n",
       "    </tr>\n",
       "    <tr>\n",
       "      <th>2</th>\n",
       "      <td>474097135</td>\n",
       "      <td>BGA</td>\n",
       "      <td>Ca</td>\n",
       "      <td>Ca</td>\n",
       "      <td>492.0</td>\n",
       "      <td>1.28</td>\n",
       "      <td>UKE</td>\n",
       "    </tr>\n",
       "  </tbody>\n",
       "</table>\n",
       "</div>"
      ],
      "text/plain": [
       "      Pat_ID   ID Maßnahme Maßnahme_norm  rel_time    Wert   DB\n",
       "0  123456798  BGA      Glu           Glu   -2880.0  100.00  UKE\n",
       "1  474097135  BGA       Ca            Ca     419.0    1.23  UKE\n",
       "2  474097135  BGA       Ca            Ca     492.0    1.28  UKE"
      ]
     },
     "execution_count": 8,
     "metadata": {},
     "output_type": "execute_result"
    }
   ],
   "source": [
    "datenbank_werte_df.head(3)"
   ]
  },
  {
   "cell_type": "code",
   "execution_count": 64,
   "id": "b920ca74-da14-4c7d-a1c4-c1690d8cc589",
   "metadata": {
    "tags": []
   },
   "outputs": [
    {
     "name": "stdout",
     "output_type": "stream",
     "text": [
      "Loading Dataset...✅\n",
      "Remove eICU values...✅\n",
      "Combine Maßnahme and ID column...✅\n",
      "Dropping 4271 nan values...✅\n",
      "Dropping duplicates...✅\n",
      "Remove outliers and shift relative time to start with 0...✅\n",
      "Reset index...✅\n",
      "Renaming NBDs...✅\n",
      "Saving dataframe to 'data/Datenbank_icp.csv'...✅\n"
     ]
    }
   ],
   "source": [
    "# Loade the dataset \n",
    "doing(\"Loading Dataset\")\n",
    "datenbank_werte_df = pd.read_csv(\"../icp_prediction/data/Datenbank_Werte.csv\")\n",
    "done()\n",
    "\n",
    "# remove the eICU values from the dataset\n",
    "doing(\"Remove eICU values\")\n",
    "datenbank_werte_df = datenbank_werte_df[datenbank_werte_df[\"DB\"] != \"eICU\"]\n",
    "done()\n",
    "\n",
    "# add the type of the Masßnahme (ID = ['BGA' 'Labor' 'Vital' 'Med']) to the Masßnahme value and drop the ID column\n",
    "doing(\"Combine Maßnahme and ID column\")\n",
    "datenbank_werte_df[\"Maßnahme\"] += \"_\" + datenbank_werte_df[\"ID\"]\n",
    "datenbank_werte_df = datenbank_werte_df.drop(columns=\"ID\")\n",
    "done()\n",
    "\n",
    "# drop measurements where we have a \"NAN\"\n",
    "nan_values = datenbank_werte_df['Wert'].isnull().sum()\n",
    "doing(\"Dropping {} nan values\".format(nan_values))\n",
    "datenbank_werte_df = datenbank_werte_df.dropna(subset=[\"Wert\"])\n",
    "done()\n",
    "\n",
    "# drop duplicates\n",
    "doing(\"Dropping duplicates\")\n",
    "datenbank_werte_df = datenbank_werte_df.drop_duplicates(subset=[\"Pat_ID\", \"Maßnahme\", \"rel_time\", \"Wert\"])\n",
    "done()\n",
    "\n",
    "# groupby the Pat ID and apply choose_target_period to each patition\n",
    "doing(\"Remove outliers and shift relative time to start with 0\")\n",
    "datenbank_werte_df = datenbank_werte_df.groupby(\"Pat_ID\").apply(lambda patition: choose_target_period(patition))\n",
    "done()\n",
    "\n",
    "# resetting the DF index, becasue we have removed many rows\n",
    "doing(\"Reset index\")\n",
    "datenbank_werte_df = datenbank_werte_df.reset_index(drop=True)\n",
    "done()\n",
    "\n",
    "# renaming NBDs because multiple measures measure the same thing\n",
    "doing(\"Renaming NBDs\")\n",
    "datenbank_werte_df[\"Maßnahme\"] = datenbank_werte_df[\"Maßnahme\"].apply(rename_nbd)\n",
    "done()\n",
    "\n",
    "# save the DF to a .csv file\n",
    "file_name = \"data/Datenbank_icp.csv\"\n",
    "doing(\"Saving dataframe to '{}'\".format(file_name))\n",
    "datenbank_werte_df.to_csv(file_name, index=False)\n",
    "done()"
   ]
  },
  {
   "cell_type": "markdown",
   "id": "bbbaf91a-240e-4573-a1c7-0752d108b580",
   "metadata": {},
   "source": [
    "## Loade the 'Datenbank_icp.csv' file\n",
    "- determine columns that have few missings\n",
    "- select high count vitals "
   ]
  },
  {
   "cell_type": "code",
   "execution_count": 66,
   "id": "6d0120b4-7265-4ce2-af64-4d459d63bd4a",
   "metadata": {},
   "outputs": [],
   "source": [
    "# load the 'Datenbank_icp.csv' file\n",
    "icp_df = pd.read_csv(\"data/Datenbank_icp.csv\")"
   ]
  },
  {
   "cell_type": "code",
   "execution_count": 9,
   "id": "deff0007-071b-48d2-b2a0-b9962aa62069",
   "metadata": {},
   "outputs": [
    {
     "name": "stderr",
     "output_type": "stream",
     "text": [
      "/tmp/ipykernel_800928/2177001019.py:1: DtypeWarning: Columns (0) have mixed types. Specify dtype option on import or set low_memory=False.\n",
      "  icp_df_anton = pd.read_csv(\"../icp_prediction/data/Datenbank_icp.csv\")\n"
     ]
    }
   ],
   "source": [
    "icp_df_anton = pd.read_csv(\"../icp_prediction/data/Datenbank_icp.csv\")"
   ]
  },
  {
   "cell_type": "code",
   "execution_count": 10,
   "id": "1470c10b-5c0b-42b7-add6-746f7f244e66",
   "metadata": {},
   "outputs": [
    {
     "data": {
      "text/html": [
       "<div>\n",
       "<style scoped>\n",
       "    .dataframe tbody tr th:only-of-type {\n",
       "        vertical-align: middle;\n",
       "    }\n",
       "\n",
       "    .dataframe tbody tr th {\n",
       "        vertical-align: top;\n",
       "    }\n",
       "\n",
       "    .dataframe thead th {\n",
       "        text-align: right;\n",
       "    }\n",
       "</style>\n",
       "<table border=\"1\" class=\"dataframe\">\n",
       "  <thead>\n",
       "    <tr style=\"text-align: right;\">\n",
       "      <th></th>\n",
       "      <th>Pat_ID</th>\n",
       "      <th>Maßnahme</th>\n",
       "      <th>Maßnahme_norm</th>\n",
       "      <th>rel_time</th>\n",
       "      <th>Wert</th>\n",
       "      <th>DB</th>\n",
       "    </tr>\n",
       "  </thead>\n",
       "  <tbody>\n",
       "    <tr>\n",
       "      <th>0</th>\n",
       "      <td>141800</td>\n",
       "      <td>Ca_BGA</td>\n",
       "      <td>Ca</td>\n",
       "      <td>540.0</td>\n",
       "      <td>8.5</td>\n",
       "      <td>eICU</td>\n",
       "    </tr>\n",
       "    <tr>\n",
       "      <th>1</th>\n",
       "      <td>141800</td>\n",
       "      <td>Ca_BGA</td>\n",
       "      <td>Ca</td>\n",
       "      <td>1060.0</td>\n",
       "      <td>8.0</td>\n",
       "      <td>eICU</td>\n",
       "    </tr>\n",
       "    <tr>\n",
       "      <th>2</th>\n",
       "      <td>141800</td>\n",
       "      <td>Cl_BGA</td>\n",
       "      <td>Cl</td>\n",
       "      <td>540.0</td>\n",
       "      <td>107.0</td>\n",
       "      <td>eICU</td>\n",
       "    </tr>\n",
       "    <tr>\n",
       "      <th>3</th>\n",
       "      <td>141800</td>\n",
       "      <td>Cl_BGA</td>\n",
       "      <td>Cl</td>\n",
       "      <td>1060.0</td>\n",
       "      <td>115.0</td>\n",
       "      <td>eICU</td>\n",
       "    </tr>\n",
       "    <tr>\n",
       "      <th>4</th>\n",
       "      <td>141800</td>\n",
       "      <td>FiO2_BGA</td>\n",
       "      <td>FO2</td>\n",
       "      <td>74.0</td>\n",
       "      <td>100.0</td>\n",
       "      <td>eICU</td>\n",
       "    </tr>\n",
       "  </tbody>\n",
       "</table>\n",
       "</div>"
      ],
      "text/plain": [
       "   Pat_ID  Maßnahme Maßnahme_norm  rel_time   Wert    DB\n",
       "0  141800    Ca_BGA            Ca     540.0    8.5  eICU\n",
       "1  141800    Ca_BGA            Ca    1060.0    8.0  eICU\n",
       "2  141800    Cl_BGA            Cl     540.0  107.0  eICU\n",
       "3  141800    Cl_BGA            Cl    1060.0  115.0  eICU\n",
       "4  141800  FiO2_BGA           FO2      74.0  100.0  eICU"
      ]
     },
     "execution_count": 10,
     "metadata": {},
     "output_type": "execute_result"
    }
   ],
   "source": [
    "icp_df_anton.head()"
   ]
  },
  {
   "cell_type": "code",
   "execution_count": 67,
   "id": "85e50210-3a9e-438f-918a-000746cca3cf",
   "metadata": {},
   "outputs": [
    {
     "name": "stdout",
     "output_type": "stream",
     "text": [
      "612768\n",
      "81746137\n"
     ]
    }
   ],
   "source": [
    "print(len(icp_df[\"Pat_ID\"]))\n",
    "print(len(icp_df_anton[\"Pat_ID\"]))"
   ]
  },
  {
   "cell_type": "code",
   "execution_count": null,
   "id": "9d5e7857-e0df-4f79-afa1-3c1b45d154ff",
   "metadata": {},
   "outputs": [],
   "source": []
  }
 ],
 "metadata": {
  "kernelspec": {
   "display_name": "Python 3 (ipykernel)",
   "language": "python",
   "name": "python3"
  },
  "language_info": {
   "codemirror_mode": {
    "name": "ipython",
    "version": 3
   },
   "file_extension": ".py",
   "mimetype": "text/x-python",
   "name": "python",
   "nbconvert_exporter": "python",
   "pygments_lexer": "ipython3",
   "version": "3.8.10"
  }
 },
 "nbformat": 4,
 "nbformat_minor": 5
}
