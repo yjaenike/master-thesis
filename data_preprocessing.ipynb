{
 "cells": [
  {
   "cell_type": "markdown",
   "id": "558412a9-5ca5-46ef-95fb-fdefe6aa52a2",
   "metadata": {},
   "source": [
    "# Data Preprocessing\n",
    "\n",
    "- Build a data processing pipeline that takes the raw data and transforms them into a NN trainable dataset\n"
   ]
  },
  {
   "cell_type": "markdown",
   "id": "9d382f48-fb89-442b-9803-d1dad8b8f2bd",
   "metadata": {
    "tags": []
   },
   "source": [
    "## Imports"
   ]
  },
  {
   "cell_type": "code",
   "execution_count": 11,
   "id": "4aaf6e49-a891-4cb6-8eb5-9ca55e7e9f50",
   "metadata": {},
   "outputs": [],
   "source": [
    "from IPython.display import Javascript\n",
    "import ipywidgets as widgets\n",
    "\n",
    "# Data\n",
    "import numpy as np\n",
    "import pandas as pd\n",
    "\n",
    "# Plotting\n",
    "import seaborn as sns\n",
    "import matplotlib.pyplot as plt"
   ]
  },
  {
   "cell_type": "markdown",
   "id": "07e67555-d342-44a8-99b8-e9667d93ecde",
   "metadata": {},
   "source": []
  }
 ],
 "metadata": {
  "kernelspec": {
   "display_name": "Python 3 (ipykernel)",
   "language": "python",
   "name": "python3"
  },
  "language_info": {
   "codemirror_mode": {
    "name": "ipython",
    "version": 3
   },
   "file_extension": ".py",
   "mimetype": "text/x-python",
   "name": "python",
   "nbconvert_exporter": "python",
   "pygments_lexer": "ipython3",
   "version": "3.8.10"
  }
 },
 "nbformat": 4,
 "nbformat_minor": 5
}
